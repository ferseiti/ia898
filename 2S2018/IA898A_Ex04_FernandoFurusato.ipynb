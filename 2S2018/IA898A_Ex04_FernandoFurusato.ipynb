{
 "cells": [
  {
   "cell_type": "markdown",
   "metadata": {},
   "source": [
    "# Ex04 - Filtragem de Imagens"
   ]
  },
  {
   "cell_type": "markdown",
   "metadata": {},
   "source": [
    " convolução discreta é uma ferramenta utilizada para construir qualquer filtro linear ou de deslocamento. \n",
    "\n",
    "**Filtros suavizantes:** são aqueles que removem a nitidez da imagem fazendo uma média, aritmética ou ponderada, na janela do núcleo. O filtro ponderado suavizante mais comum é o da gaussiana. Filtros suavizantes são muito utilizados para eliminar ruído de uma imagem.\n",
    "\n",
    "**Filtros aguçantes:** são aqueles que realçam as bordas da imagem. Um dos filtros aguçantes mais comum é o Sobel (https://en.wikipedia.org/wiki/Sobel_operator).\n",
    "\n",
    "Veja mais no notebook sobre [Filtragem no domínio espacial](07 Filtragem no domínio espacial.ipynb)"
   ]
  },
  {
   "cell_type": "code",
   "execution_count": null,
   "metadata": {},
   "outputs": [],
   "source": [
    "import numpy as np\n",
    "import matplotlib.image as mpimg\n",
    "import matplotlib.pyplot as plt\n",
    "\n",
    "%matplotlib inline\n",
    "f = mpimg.imread('../data/retina.tif')  \n",
    "plt.imshow(f,cmap='gray')"
   ]
  },
  {
   "cell_type": "markdown",
   "metadata": {},
   "source": [
    "### Exercício 1\n",
    "\n",
    "Entenda o uso da função numpy.convolve e experimente usá-la para entender o filtro da média. Sugestões:\n",
    "- comece com uma imagem numérica pequena e depois use a imagem da retina\n",
    "- faça experimentos variando o tamanho da máscara do filtro e compare as imagens resultantes\n",
    "- varie também o modos da função, explicando as diferenças encontradas\n",
    "- compare os resultados obtidos pela função numpy.convolve com a filtragem usando a função conv da toolbox ia898"
   ]
  },
  {
   "cell_type": "markdown",
   "metadata": {},
   "source": [
    "O numpy.convolve recebe apenas vetores como entrada, e faz a convolução 1D.  \n",
    "Convoluir e fazer reshape não é uma boa solução, já que a convolução 1D não é a mesma da 2D"
   ]
  },
  {
   "cell_type": "code",
   "execution_count": null,
   "metadata": {},
   "outputs": [],
   "source": [
    "import sys, os\n",
    "ia898path = os.path.abspath('../../')\n",
    "if ia898path not in sys.path:\n",
    "    sys.path.append(ia898path)\n",
    "import ia898.src as ia"
   ]
  },
  {
   "cell_type": "code",
   "execution_count": null,
   "metadata": {},
   "outputs": [],
   "source": [
    "np.arange(1,10)"
   ]
  },
  {
   "cell_type": "code",
   "execution_count": null,
   "metadata": {},
   "outputs": [],
   "source": [
    "f_test = np.random.randint(1, 3, (5, 5))\n",
    "# f_test = np.arange(1, 26).reshape((5, 5))\n",
    "# f_test = np.zeros((5,5))\n",
    "# f_test = np.zeros((3,3))\n",
    "#f_test[:, 1] = 1\n",
    "print(f_test)\n",
    "print(f_test.ravel())"
   ]
  },
  {
   "cell_type": "code",
   "execution_count": null,
   "metadata": {},
   "outputs": [],
   "source": [
    "s = 3\n",
    "filter = np.ones((s, s))/s**2\n",
    "# filter = np.arange(1,10).reshape(3,3)\n",
    "filter\n",
    "print(np.flip(filter.ravel(), 0))"
   ]
  },
  {
   "cell_type": "code",
   "execution_count": null,
   "metadata": {},
   "outputs": [],
   "source": [
    "full = np.convolve(f_test.ravel(), filter.ravel(), mode='full')\n",
    "valid = np.convolve(f_test.ravel(), filter.ravel(), mode='valid')\n",
    "same = np.convolve(f_test.flatten(), filter.flatten(), mode='same')\n",
    "iaconv = ia.conv(f_test, filter)\n",
    "\n",
    "print('Full mode. Shape: {}\\n{}\\n'.format(full.shape, np.around(full, 3)))\n",
    "\n",
    "print('Full mode slice. Shape: {}\\n{}\\n'.format(full[4:-4].shape, np.around(full[4:-4], 3).reshape((5,5))))\n",
    "\n",
    "print('Valid mode. Shape:{}\\n {}\\n'.format(valid.shape, np.around(valid, 3)))\n",
    "\n",
    "print('Same mode. Shape:{}\\n {}\\n'.format(same.shape, np.around(same.reshape((5,5)), 3)))\n",
    "\n",
    "print('ia.conv. Shape:{}\\n {}\\n'.format(iaconv.shape, np.around(iaconv, 3)))"
   ]
  },
  {
   "cell_type": "code",
   "execution_count": null,
   "metadata": {},
   "outputs": [],
   "source": [
    "f.shape"
   ]
  },
  {
   "cell_type": "code",
   "execution_count": null,
   "metadata": {},
   "outputs": [],
   "source": [
    "f_filtered = np.convolve(f.ravel(), filter.ravel(), mode='same')\n",
    "plt.imshow(f_filtered.reshape((256,256)), cmap='gray')\n",
    "plt.show()\n",
    "\n",
    "plt.imshow(ia.conv(f, filter), cmap = 'gray')\n",
    "plt.show()"
   ]
  },
  {
   "cell_type": "markdown",
   "metadata": {},
   "source": [
    "### Exercício 2\n",
    "\n",
    "Explore o filtro Gaussiano. Sugestões:\n",
    "- teste a propriedade de decomposição das máscaras da convolução, ou seja, crie um filtro gaussiano bi-dimensional (3,3) a partir de 2 filtros unidimensionais (3,1) e (1,3)\n",
    "- Faça experimentos de filtragem variando os parâmetros do filtro (tamanho da máscara do filtro, a média e o desvio padrão) \n",
    "- adicione ruído a uma imagem e depois tente remover o ruído com filtragem"
   ]
  },
  {
   "cell_type": "code",
   "execution_count": null,
   "metadata": {},
   "outputs": [],
   "source": [
    "import numpy as np\n",
    "from math import pi, exp, sqrt\n",
    "\n",
    "def gauss_kernel(kernel_size=7, sigma=1.0, mean=0):\n",
    "    \n",
    "    aux = np.linspace(mean-1, mean+1, kernel_size)\n",
    "    x = 1 / np.sqrt(2 * pi) * np.exp(-aux ** 2 / 2. * (sigma**2))\n",
    "    y = x.reshape(len(x),1)\n",
    "    xy = x * y\n",
    "    plt.plot(aux, x)\n",
    "    plt.show()\n",
    "    return xy\n",
    "\n",
    "plt.imshow(gauss_kernel(13, 2.0, 0), cmap='gray')\n",
    "plt.show()"
   ]
  },
  {
   "cell_type": "code",
   "execution_count": null,
   "metadata": {},
   "outputs": [],
   "source": [
    "f = ia.normalize(f)\n",
    "\n",
    "f_noise = f\n",
    "\n",
    "kernel = gauss_kernel(5, 1.0, 0)\n",
    "kernel1 = gauss_kernel(7, 2.0, 0.4)\n",
    "kernel2 = gauss_kernel(9, 2.0, 1)\n",
    "kernel3 = gauss_kernel(9, 2.0, 0)\n",
    "\n",
    "gauss = ia.normalize(ia.conv(f_noise, kernel))\n",
    "gauss1 = ia.normalize(ia.conv(f_noise, kernel1))\n",
    "gauss2 = ia.normalize(ia.conv(f_noise, kernel2))\n",
    "gauss3 = ia.normalize(ia.conv(f_noise, kernel3))\n",
    "\n",
    "fig=plt.figure(figsize=(12,12))\n",
    "\n",
    "plt.subplot(321).axis('off')\n",
    "plt.title('original')\n",
    "plt.imshow(f_noise.reshape(256,256), cmap='gray', vmax=255)\n",
    "\n",
    "plt.subplot(323).axis('off')\n",
    "plt.imshow(gauss, cmap='gray', vmax=255)\n",
    "plt.title('1')\n",
    "\n",
    "plt.subplot(324).axis('off')\n",
    "plt.imshow(gauss1, cmap='gray', vmax=255)\n",
    "plt.title('2')\n",
    "\n",
    "plt.subplot(325).axis('off')\n",
    "plt.title('3')\n",
    "plt.imshow(gauss2, cmap='gray', vmax=255)\n",
    "\n",
    "plt.subplot(326).axis('off')\n",
    "plt.imshow(gauss3, cmap='gray', vmax=255)\n",
    "plt.title('4')\n",
    "\n",
    "plt.show()"
   ]
  }
 ],
 "metadata": {
  "kernelspec": {
   "display_name": "Python 3",
   "language": "python",
   "name": "python3"
  },
  "language_info": {
   "codemirror_mode": {
    "name": "ipython",
    "version": 3
   },
   "file_extension": ".py",
   "mimetype": "text/x-python",
   "name": "python",
   "nbconvert_exporter": "python",
   "pygments_lexer": "ipython3",
   "version": "3.6.5"
  }
 },
 "nbformat": 4,
 "nbformat_minor": 2
}
