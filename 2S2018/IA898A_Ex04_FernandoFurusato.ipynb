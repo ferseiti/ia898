{
 "cells": [
  {
   "cell_type": "markdown",
   "metadata": {},
   "source": [
    "# Ex04 - Filtragem de Imagens"
   ]
  },
  {
   "cell_type": "markdown",
   "metadata": {},
   "source": [
    " convolução discreta é uma ferramenta utilizada para construir qualquer filtro linear ou de deslocamento. \n",
    "\n",
    "**Filtros suavizantes:** são aqueles que removem a nitidez da imagem fazendo uma média, aritmética ou ponderada, na janela do núcleo. O filtro ponderado suavizante mais comum é o da gaussiana. Filtros suavizantes são muito utilizados para eliminar ruído de uma imagem.\n",
    "\n",
    "**Filtros aguçantes:** são aqueles que realçam as bordas da imagem. Um dos filtros aguçantes mais comum é o Sobel (https://en.wikipedia.org/wiki/Sobel_operator).\n",
    "\n",
    "Veja mais no notebook sobre [Filtragem no domínio espacial](07 Filtragem no domínio espacial.ipynb)"
   ]
  },
  {
   "cell_type": "code",
   "execution_count": null,
   "metadata": {},
   "outputs": [],
   "source": [
    "import numpy as np\n",
    "import matplotlib.image as mpimg\n",
    "import matplotlib.pyplot as plt\n",
    "\n",
    "%matplotlib inline\n",
    "f = mpimg.imread('../data/retina.tif')  \n",
    "plt.imshow(f,cmap='gray')"
   ]
  },
  {
   "cell_type": "markdown",
   "metadata": {},
   "source": [
    "### Exercício 1\n",
    "\n",
    "Entenda o uso da função numpy.convolve e experimente usá-la para entender o filtro da média. Sugestões:\n",
    "- comece com uma imagem numérica pequena e depois use a imagem da retina\n",
    "- faça experimentos variando o tamanho da máscara do filtro e compare as imagens resultantes\n",
    "- varie também o modos da função, explicando as diferenças encontradas\n",
    "- compare os resultados obtidos pela função numpy.convolve com a filtragem usando a função conv da toolbox ia898"
   ]
  },
  {
   "cell_type": "code",
   "execution_count": null,
   "metadata": {},
   "outputs": [],
   "source": [
    "import sys, os\n",
    "ia898path = os.path.abspath('../../')\n",
    "if ia898path not in sys.path:\n",
    "    sys.path.append(ia898path)\n",
    "import ia898.src as ia\n",
    "import scipy.signal as sc"
   ]
  },
  {
   "cell_type": "markdown",
   "metadata": {},
   "source": [
    "### Ex04.1 Matrix pequena para testar a convolução:"
   ]
  },
  {
   "cell_type": "code",
   "execution_count": null,
   "metadata": {},
   "outputs": [],
   "source": [
    "f_test = np.random.randint(1, 3, (4, 4))\n",
    "# f_test = np.ones((5,5))\n",
    "print(f_test)"
   ]
  },
  {
   "cell_type": "markdown",
   "metadata": {},
   "source": [
    "#### Criando o filtro da média"
   ]
  },
  {
   "cell_type": "code",
   "execution_count": null,
   "metadata": {},
   "outputs": [],
   "source": [
    "s = 3\n",
    "kernel_ex1 = np.ones((s, s))/s**2\n",
    "print(kernel_ex1)"
   ]
  },
  {
   "cell_type": "markdown",
   "metadata": {},
   "source": [
    "Pode-se perceber que o modo 'full' mantém a borda utilizada para o tratamento de borda da convolução, enquanto o modo 'same' a elimina após a convolução.  \n",
    "O modo 'valid' apenas mantém os valores que não foram afetados pela borda.  \n",
    "Também é possível selecionar se o valor da borda será:\n",
    "* Replicado: com a opção boundary = 'symm';\n",
    "* Preenchido com um valor específico: com as opções boundary = 'fill' e fillvalue = valor;\n",
    "* Circular: com a opção boundary = 'wrap', é o exemplo do 'azulejo'\n",
    "* Preenchido com zeros: opção padrão"
   ]
  },
  {
   "cell_type": "code",
   "execution_count": null,
   "metadata": {},
   "outputs": [],
   "source": [
    "filtered_test1 = sc.convolve2d(f_test, kernel_ex1, mode='full')\n",
    "filtered_test2 = sc.convolve2d(f_test, kernel_ex1, mode='valid')\n",
    "filtered_test3 = sc.convolve2d(f_test, kernel_ex1, mode='same', boundary='symm')\n",
    "filtered_test3a = sc.convolve2d(f_test, kernel_ex1, mode='same')\n",
    "filtered_test4 = ia.conv(f_test, kernel_ex1)\n",
    "\n",
    "print('scipy full\\n{}\\n'.format(filtered_test1))\n",
    "print('scipy valid\\n{}\\n'.format(filtered_test2))\n",
    "print('scipy same symm\\n{}\\n'.format(filtered_test3))\n",
    "print('scipy same 0\\n{}\\n'.format(filtered_test3a))\n",
    "print('ia.conv\\n{}\\n'.format(filtered_test4))"
   ]
  },
  {
   "cell_type": "markdown",
   "metadata": {},
   "source": [
    "### Ex04.1 Agora com a imagem:"
   ]
  },
  {
   "cell_type": "code",
   "execution_count": null,
   "metadata": {},
   "outputs": [],
   "source": [
    "s1 = 5\n",
    "s2 = 7\n",
    "s3 = 9\n",
    "kernel_ex1a = np.ones((s1, s1))/s1**2\n",
    "kernel_ex1b = np.ones((s2, s2))/s1**2\n",
    "kernel_ex1c = np.ones((s3, s3))/s1**2\n",
    "\n",
    "f_filtered_ex1a = sc.convolve2d(f, kernel_ex1a)\n",
    "f_filtered_ex1b = ia.conv(f, kernel_ex1a)\n",
    "\n",
    "f_filtered_ex1c = sc.convolve2d(f, kernel_ex1b)\n",
    "f_filtered_ex1d = ia.conv(f, kernel_ex1b)\n",
    "\n",
    "f_filtered_ex1e = sc.convolve2d(f, kernel_ex1c)\n",
    "f_filtered_ex1f = ia.conv(f, kernel_ex1c)\n",
    "\n",
    "fig_ex1a = plt.figure(figsize=(10,10))\n",
    "\n",
    "fig_ex1a.add_subplot(321).axis('off')\n",
    "plt.title('kernel 5x5, scipy, shape {}'.format(f_filtered_ex1a.shape))\n",
    "plt.imshow(f_filtered_ex1a, cmap='gray')\n",
    "\n",
    "fig_ex1a.add_subplot(322).axis('off')\n",
    "plt.title('kernel 5x5, ia.conv, shape {}'.format(f_filtered_ex1b.shape))\n",
    "plt.imshow(f_filtered_ex1b, cmap='gray')\n",
    "\n",
    "fig_ex1a.add_subplot(323).axis('off')\n",
    "plt.title('kernel 7x7, scipy, shape {}'.format(f_filtered_ex1c.shape))\n",
    "plt.imshow(f_filtered_ex1c, cmap='gray')\n",
    "\n",
    "fig_ex1a.add_subplot(324).axis('off')\n",
    "plt.title('kernel 7x7, ia.conv, shape {}'.format(f_filtered_ex1d.shape))\n",
    "plt.imshow(f_filtered_ex1d, cmap='gray')\n",
    "\n",
    "fig_ex1a.add_subplot(325).axis('off')\n",
    "plt.title('kernel 9x9, scipy, shape{}'.format(f_filtered_ex1e.shape))\n",
    "plt.imshow(f_filtered_ex1e, cmap='gray')\n",
    "\n",
    "fig_ex1a.add_subplot(326).axis('off')\n",
    "plt.title('kernel 9x9, ia.conv, shape{}'.format(f_filtered_ex1f.shape))\n",
    "plt.imshow(f_filtered_ex1f, cmap='gray')\n",
    "\n",
    "plt.show()"
   ]
  },
  {
   "cell_type": "markdown",
   "metadata": {},
   "source": [
    "Apenas para comparação, a np.sum da diferença entre cada um (scipy vs ia)"
   ]
  },
  {
   "cell_type": "code",
   "execution_count": null,
   "metadata": {},
   "outputs": [],
   "source": [
    "print(np.sum(f_filtered_ex1a-f_filtered_ex1b))\n",
    "print(np.sum(f_filtered_ex1c-f_filtered_ex1d))\n",
    "print(np.sum(f_filtered_ex1e-f_filtered_ex1f))"
   ]
  },
  {
   "cell_type": "markdown",
   "metadata": {},
   "source": [
    "### Ex04.1: Eu já tinha feito com numpy.convolve de uma certa forma. Por isso, vou deixar abaixo."
   ]
  },
  {
   "cell_type": "markdown",
   "metadata": {},
   "source": [
    "O numpy.convolve recebe apenas vetores como entrada, e faz a convolução 1D.  \n",
    "Convoluir e fazer reshape não é uma boa solução, já que a convolução 1D não é a mesma da 2D.  \n",
    "Para usar na convolução 1D:"
   ]
  },
  {
   "cell_type": "code",
   "execution_count": null,
   "metadata": {},
   "outputs": [],
   "source": [
    "s = 5\n",
    "kernel1 = np.ones((s, s))/s**2\n",
    "semi_filter = np.ones(s)/s\n",
    "print(semi_filter)\n",
    "f_test1 = np.random.randint(1, 3, (7, 7))"
   ]
  },
  {
   "cell_type": "code",
   "execution_count": null,
   "metadata": {},
   "outputs": [],
   "source": [
    "same = f_test1.copy().astype('float32')\n",
    "full = np.convolve(f_test1.flatten(), kernel1.flatten(), 'full')\n",
    "\n",
    "for i in range(len(f_test1)):\n",
    "    same[i] = np.convolve(same[i], semi_filter, mode='same')\n",
    "for i in range(len(f_test1.T)):\n",
    "    same.T[i] = np.convolve(same.T[i], semi_filter, mode='same')\n",
    "    \n",
    "iaconv = ia.conv(f_test1, kernel1)\n",
    "\n",
    "print('Full mode. Shape: {}\\n{}\\n'.format(full.shape, np.around(full, 3)))\n",
    "\n",
    "print('Same mode. Shape:{}\\n {}\\n'.format(same.shape, np.around(same.reshape((7,7)), 3)))\n",
    "\n",
    "print('ia.conv. Shape:{}\\n {}\\n'.format(iaconv.shape, np.around(iaconv, 3)))"
   ]
  },
  {
   "cell_type": "code",
   "execution_count": null,
   "metadata": {},
   "outputs": [],
   "source": [
    "f.shape"
   ]
  },
  {
   "cell_type": "code",
   "execution_count": null,
   "metadata": {},
   "outputs": [],
   "source": [
    "f_filtered = f.copy()\n",
    "\n",
    "for i in range(len(f)):\n",
    "    f_filtered[i] = np.convolve(f_filtered[i], semi_filter, mode='same')\n",
    "for i in range(len(f.T)):\n",
    "    f_filtered.T[i] = np.convolve(f_filtered.T[i], semi_filter, mode='same')\n",
    "\n",
    "fig_ex1=plt.figure(figsize=(8,8))\n",
    "\n",
    "fig_ex1.add_subplot(121).axis('off')\n",
    "plt.imshow(f_filtered.reshape((256,256)), cmap='gray')\n",
    "\n",
    "fig_ex1.add_subplot(122).axis('off')\n",
    "plt.imshow(ia.conv(f, kernel1), cmap = 'gray')\n",
    "plt.show()"
   ]
  },
  {
   "cell_type": "markdown",
   "metadata": {},
   "source": [
    "### Exercício 2\n",
    "\n",
    "Explore o filtro Gaussiano. Sugestões:\n",
    "- teste a propriedade de decomposição das máscaras da convolução, ou seja, crie um filtro gaussiano bi-dimensional (3,3) a partir de 2 filtros unidimensionais (3,1) e (1,3)\n",
    "- Faça experimentos de filtragem variando os parâmetros do filtro (tamanho da máscara do filtro, a média e o desvio padrão) \n",
    "- adicione ruído a uma imagem e depois tente remover o ruído com filtragem"
   ]
  },
  {
   "cell_type": "markdown",
   "metadata": {},
   "source": [
    "### Ex04.2 A função abaixo cria um filtro gaussiano (kernel_size, kernel_size)\n",
    "\n",
    "Sendo que o kernel_size, o sigma e o ponto médio podem variar de acordo com o argumento fornecido à função.  \n",
    "Eu escolhi uma faixa de -1 a 1, para que o desvio padrão tenha maior influência no filtro.  \n",
    "$g(x)=\\frac{1}{\\sigma\\sqrt{2\\pi}}.e^\\left(-\\frac{x²}{2\\sigma²}\\right)$\n",
    "\n",
    "Obs: Eu não havia me dado conta de que existe um gerador de kernel gaussiano na toolbox, por isso fiz a implementação abaixo, mais simples."
   ]
  },
  {
   "cell_type": "code",
   "execution_count": null,
   "metadata": {},
   "outputs": [],
   "source": [
    "import numpy as np\n",
    "from math import pi, exp, sqrt\n",
    "\n",
    "def gauss_kernel(kernel_size=7, sigma=1.0, mean=0):\n",
    "    \n",
    "    x = np.linspace(mean-1, mean+1, kernel_size)\n",
    "    g_x = 1/(sqrt(2*pi)*sigma) * np.exp(-(x**2/2.*(sigma**2)))\n",
    "    g_y = g_x.reshape(len(g_x),1)\n",
    "    g_xy = g_x * g_y\n",
    "    plt.plot(x, g_x)\n",
    "    plt.show()\n",
    "    print(g_x)\n",
    "    return g_xy\n",
    "\n",
    "plt.imshow(gauss_kernel(7, 2.65, 0), cmap='gray')\n",
    "plt.show()"
   ]
  },
  {
   "cell_type": "markdown",
   "metadata": {},
   "source": [
    "#### Adicionando algum ruído à imagem"
   ]
  },
  {
   "cell_type": "code",
   "execution_count": null,
   "metadata": {},
   "outputs": [],
   "source": [
    "f = ia.normalize(f)\n",
    "\n",
    "f_noise = f.copy()\n",
    "\n",
    "for i in range(100):\n",
    "    random1 = np.random.choice(254)\n",
    "    random2 = np.random.choice(254)\n",
    "    f_noise[random1:random1+1, random2:random2+2] = 255\n",
    "    random1 = np.random.choice(254)\n",
    "    random2 = np.random.choice(254)\n",
    "    f_noise[random1:random1+1, random2:random2+2] = 0\n",
    "\n",
    "# for i in noise:\n",
    "#     print(f_noise[i])\n",
    "\n",
    "plt.imshow(f_noise, cmap='gray')\n",
    "\n",
    "plt.show()"
   ]
  },
  {
   "cell_type": "markdown",
   "metadata": {},
   "source": [
    "### Sem normalizar"
   ]
  },
  {
   "cell_type": "code",
   "execution_count": null,
   "metadata": {},
   "outputs": [],
   "source": [
    "kernel0 = gauss_kernel(5, 1.0, 0)\n",
    "kernel1 = gauss_kernel(5, 1.5, 0)\n",
    "kernel2 = gauss_kernel(9, 2.0, -.8)\n",
    "kernel3 = gauss_kernel(9, 2.0, 0.0)\n",
    "\n",
    "gauss0 = (ia.conv(f_noise, kernel0))\n",
    "gauss1 = (ia.conv(f_noise, kernel1))\n",
    "gauss2 = (ia.conv(f_noise, kernel2))\n",
    "gauss3 = (ia.conv(f_noise, kernel3))\n",
    "\n",
    "fig=plt.figure(figsize=(15,15))\n",
    "\n",
    "plt.subplot(321).axis('off')\n",
    "plt.title('original')\n",
    "plt.imshow(f_noise.reshape(256,256), cmap='gray', vmax=255)\n",
    "\n",
    "plt.subplot(323).axis('off')\n",
    "plt.imshow(gauss0, cmap='gray', vmax=255)\n",
    "plt.title('kernel 5x5, sigma=1.0, mean=0')\n",
    "\n",
    "plt.subplot(324).axis('off')\n",
    "plt.imshow(gauss1, cmap='gray', vmax=255)\n",
    "plt.title('kernel 5x5, sigma=1.5, mean=0.4')\n",
    "\n",
    "plt.subplot(325).axis('off')\n",
    "plt.title('kernel 9x9, sigma=2.0, mean=-0.8')\n",
    "plt.imshow(gauss2, cmap='gray', vmax=255)\n",
    "\n",
    "plt.subplot(326).axis('off')\n",
    "plt.imshow(gauss3, cmap='gray', vmax=255)\n",
    "plt.title('kernel 9x9, sigma=2.0, mean=0')\n",
    "\n",
    "plt.show()"
   ]
  },
  {
   "cell_type": "markdown",
   "metadata": {},
   "source": [
    "### Normalizado"
   ]
  },
  {
   "cell_type": "code",
   "execution_count": null,
   "metadata": {},
   "outputs": [],
   "source": [
    "gauss0 = ia.normalize(gauss0)\n",
    "gauss1 = ia.normalize(gauss1)\n",
    "gauss2 = ia.normalize(gauss2)\n",
    "gauss3 = ia.normalize(gauss3)\n",
    "\n",
    "fig=plt.figure(figsize=(15,15))\n",
    "\n",
    "plt.subplot(321).axis('off')\n",
    "plt.title('original')\n",
    "plt.imshow(f_noise.reshape(256,256), cmap='gray', vmax=255)\n",
    "\n",
    "plt.subplot(323).axis('off')\n",
    "plt.imshow(gauss0, cmap='gray', vmax=255)\n",
    "plt.title('kernel 5x5, sigma=1.0, mean=0')\n",
    "\n",
    "plt.subplot(324).axis('off')\n",
    "plt.imshow(gauss1, cmap='gray', vmax=255)\n",
    "plt.title('kernel 7x7, sigma=2.0, mean=0.4')\n",
    "\n",
    "plt.subplot(325).axis('off')\n",
    "plt.title('kernel 9x9, sigma=2.0, mean=-0.8')\n",
    "plt.imshow(gauss2, cmap='gray', vmax=255)\n",
    "\n",
    "plt.subplot(326).axis('off')\n",
    "plt.imshow(gauss3, cmap='gray', vmax=255)\n",
    "plt.title('kernel 9x9, sigma=2.0, mean=0')\n",
    "\n",
    "plt.show()"
   ]
  },
  {
   "cell_type": "markdown",
   "metadata": {},
   "source": [
    "#### Comparação de filtro da média com gaussiano\n",
    "\n",
    "Não tenho certeza se houve muita diferença no resultado, visualmente.  \n",
    "Tentei chegar a um resultado sem normalizar, deixando o valor máximo em 255."
   ]
  },
  {
   "cell_type": "code",
   "execution_count": null,
   "metadata": {},
   "outputs": [],
   "source": [
    "s4 = 5\n",
    "\n",
    "# Gaussiana pelo triângulo de Pascal\n",
    "a = np.array([1, 6, 15, 20, 15, 6, 1])\n",
    "gauss_a = (a/64)*((a/64).reshape((7,1)))\n",
    "\n",
    "kernel4_gauss = gauss_kernel(s4, 1.3, 0)\n",
    "\n",
    "kernel4_mean = np.ones((s4, s4))/s4**2\n",
    "\n",
    "fig2 = plt.figure(figsize=(15,15))\n",
    "\n",
    "\n",
    "mean = ia.normalize(sc.convolve2d(f_noise, kernel4_mean, mode='same'))\n",
    "\n",
    "gauss4 = (sc.convolve2d(f_noise, kernel4_gauss, mode='same'))\n",
    "\n",
    "plt.subplot(131).axis('off')\n",
    "plt.title('mean')\n",
    "plt.imshow(mean, cmap='gray', vmax=255)\n",
    "\n",
    "plt.subplot(132).axis('off')\n",
    "plt.title('gauss')\n",
    "plt.imshow(gauss4, cmap='gray', vmax=255)\n",
    "\n",
    "plt.subplot(133).axis('off')\n",
    "plt.title('pascal gauss')\n",
    "plt.imshow((sc.convolve2d(f_noise, gauss_a, mode='same')), cmap='gray', vmax=255)\n",
    "\n",
    "print(gauss4.min())\n",
    "\n",
    "plt.show()\n",
    "\n",
    "plt.imshow(ia.normalize(gauss4 - mean), cmap='gray', vmax=255)\n",
    "plt.title('Difference between mean and gauss results')\n",
    "plt.show()"
   ]
  },
  {
   "cell_type": "markdown",
   "metadata": {},
   "source": [
    "#### Como eu já havia implementado uma gaussiana, apenas utilizo a função da toolbox para entender um pouco."
   ]
  },
  {
   "cell_type": "code",
   "execution_count": null,
   "metadata": {},
   "outputs": [],
   "source": [
    "s5 = 13\n",
    "mean1 = s5//2+1\n",
    "\n",
    "a1 = ia.gaussian( (s5,), mean1, [[7]]) # média da distribuição normal deslocada\n",
    "b1 = a1.reshape(s5,1)\n",
    "print(a1)\n",
    "ab = a1*b1\n",
    "plt.imshow(ab, cmap='gray')\n",
    "\n",
    "plt.show()\n",
    "c1 = sc.convolve2d(f_noise, ab)\n",
    "\n",
    "plt.imshow(c1, cmap='gray')\n",
    "plt.show()\n",
    "\n",
    "plt.plot(ia.normalize(a1, [0,1]))\n",
    "plt.show()"
   ]
  }
 ],
 "metadata": {
  "kernelspec": {
   "display_name": "Python 3",
   "language": "python",
   "name": "python3"
  },
  "language_info": {
   "codemirror_mode": {
    "name": "ipython",
    "version": 3
   },
   "file_extension": ".py",
   "mimetype": "text/x-python",
   "name": "python",
   "nbconvert_exporter": "python",
   "pygments_lexer": "ipython3",
   "version": "3.5.2"
  }
 },
 "nbformat": 4,
 "nbformat_minor": 2
}
