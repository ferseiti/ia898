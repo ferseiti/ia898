{
 "cells": [
  {
   "cell_type": "markdown",
   "metadata": {},
   "source": [
    "# Ex07 - Propriedades da DFT"
   ]
  },
  {
   "cell_type": "markdown",
   "metadata": {},
   "source": [
    "### Parte 1 - Convolução periódica\n",
    "\n",
    "Tente entender a convolução periódica [(notebook)](11 Teorema da Convolucao.ipynb), comparando-a com a convolução já estudada anteriormente (scypi.signal.convolve2d). Avalie as diferenças em um exemplo numérico pequeno e depois, utilizando uma imagem.\n",
    "\n",
    "- Desafio opcional: crie um exemplo com uma imagem numérica pequena e um kernel 3x3. Tente obter o mesmo resultado usando a função *convp* e a função *scypi.signal.convolve2d*. Ou seja, implemente a convolução periódica a partir da convolução linear."
   ]
  },
  {
   "cell_type": "markdown",
   "metadata": {},
   "source": [
    "**Fernando:** \n",
    "Para chegar ao mesmo resultado do pconv, eu utilizei a scipy.signal.concolve2d no modo full, com os limites do tipo wrap e formei a matriz de resultado a partir da origem dessa nova matriz, do tamanho da imagem original."
   ]
  },
  {
   "cell_type": "code",
   "execution_count": null,
   "metadata": {},
   "outputs": [],
   "source": [
    "import sys,os\n",
    "ia898path = os.path.abspath('../../')\n",
    "if ia898path not in sys.path:\n",
    "    sys.path.append(ia898path)\n",
    "import ia898.src as ia\n",
    "\n",
    "from matplotlib import image as mpimg\n",
    "from matplotlib import pyplot as plt\n",
    "import numpy as np\n",
    "from numpy.fft import fftshift\n",
    "from scipy.signal import convolve2d"
   ]
  },
  {
   "cell_type": "markdown",
   "metadata": {},
   "source": [
    "#### Com uma matriz numérica simples (a mesma do exempo)"
   ]
  },
  {
   "cell_type": "code",
   "execution_count": null,
   "metadata": {},
   "outputs": [],
   "source": [
    "f_p1 = np.array([[1,0,0,0,0,0,0,0,0],\n",
    "             [0,0,0,0,0,0,0,0,0],\n",
    "             [0,0,0,1,0,0,0,0,0],\n",
    "             [0,0,0,0,0,0,0,0,1],\n",
    "             [0,0,0,0,0,0,0,0,0]]).astype('float32')\n",
    "\n",
    "kernel_p1a = np.arange(1,10,1).reshape((3,3))\n",
    "\n",
    "print(f_p1, f_p1.shape)\n",
    "\n",
    "g_p1a = convolve2d(f_p1, kernel_p1a, mode='full', boundary='wrap')\n",
    "g_p1a = g_p1a[:f_p1.shape[0],:f_p1.shape[1]]\n",
    "g_p1b = ia.pconv(f_p1, kernel_p1a)\n",
    "\n",
    "print(g_p1a, g_p1a.shape)\n",
    "\n",
    "print(g_p1b, g_p1b.shape)"
   ]
  },
  {
   "cell_type": "code",
   "execution_count": null,
   "metadata": {},
   "outputs": [],
   "source": [
    "print(kernel_p1a.shape)\n",
    "print(f_p1.shape)\n",
    "\n",
    "pad = tuple(np.subtract(f_p1.shape, kernel_p1a.shape)//2)\n",
    "print(pad)"
   ]
  },
  {
   "cell_type": "markdown",
   "metadata": {},
   "source": [
    "**Fernando:** Implementando com uma imagem, com filtro de sobel"
   ]
  },
  {
   "cell_type": "code",
   "execution_count": null,
   "metadata": {},
   "outputs": [],
   "source": [
    "f_p1a = np.array(mpimg.imread('../data/cameraman.tif'))\n",
    "\n",
    "kernel_p1c = np.array([[1, 0, -1],\n",
    "                      [2, 0, -2],\n",
    "                      [1, 0, -1]])\n",
    "\n",
    "g_p1c = convolve2d(f_p1a, kernel_p1c, mode='full', boundary='wrap')\n",
    "g_p1c = g_p1c[:f_p1a.shape[0],:f_p1a.shape[1]]\n",
    "\n",
    "g_p1d = ia.pconv(f_p1a, kernel_p1c)\n",
    "\n",
    "g_p1e = convolve2d(f_p1a, kernel_p1c, mode='same')\n",
    "                 \n",
    "fig = plt.figure(figsize=[15,15])\n",
    "fig.add_subplot(321)\n",
    "plt.title('0: Imagem original')\n",
    "plt.imshow(f_p1a, cmap='gray')\n",
    "\n",
    "fig.add_subplot(323)\n",
    "plt.title('1: Utilizando convolve2d')\n",
    "plt.imshow(g_p1c, cmap='gray')\n",
    "\n",
    "fig.add_subplot(324)\n",
    "plt.title('2: Utilizando pconv')\n",
    "plt.imshow(g_p1d, cmap='gray')\n",
    "\n",
    "fig.add_subplot(325)\n",
    "plt.title('3: convolve2d, modo same, sem periodico')\n",
    "plt.imshow(g_p1e, cmap='gray')\n",
    "\n",
    "plt.show()\n",
    "\n",
    "print('numpy.sum da diferença entre as duas imagens 1 e 2: {}'.format(np.sum(g_p1c - g_p1d)))\n",
    "print('numpy.sum da diferença entre as duas imagens 2 e 3: {}'.format(np.sum(g_p1d - g_p1e)))"
   ]
  },
  {
   "cell_type": "markdown",
   "metadata": {},
   "source": [
    "### Parte 2 - Teorema da convolução\n",
    "\n",
    "Crie uma demonstração usando imagens para o Teorema da Convolução. Lembre-se, o objetivo é mostrar que o teorema é válido, ou seja, que $ F(f * g) = F(f) \\cdot F(g) $"
   ]
  },
  {
   "cell_type": "markdown",
   "metadata": {},
   "source": [
    "**Fernando:** Criando a imagem e os kernels."
   ]
  },
  {
   "cell_type": "code",
   "execution_count": null,
   "metadata": {},
   "outputs": [],
   "source": [
    "from numpy.fft import fft2, ifft2\n",
    "\n",
    "f_p2a = np.array(mpimg.imread('../data/cameraman.tif'))\n",
    "\n",
    "kernel_p2a = np.array([[1, 0, -1],\n",
    "                      [2, 0, -2],\n",
    "                      [1, 0, -1]])\n",
    "\n",
    "r, c = kernel_p2a.shape\n",
    "k2a_aux = np.zeros(f_p2a.shape)\n",
    "k2a_aux[:r, :c] = kernel_p2a"
   ]
  },
  {
   "cell_type": "markdown",
   "metadata": {},
   "source": [
    "**Fernando:** Fazendo as transformadas e aplicando filtros"
   ]
  },
  {
   "cell_type": "code",
   "execution_count": null,
   "metadata": {},
   "outputs": [],
   "source": [
    "F_p2a = np.fft.fft2(f_p2a)\n",
    "K_p2a = np.fft.fft2(k2a_aux)"
   ]
  },
  {
   "cell_type": "markdown",
   "metadata": {},
   "source": [
    "Multiplicação no dominio das frequências"
   ]
  },
  {
   "cell_type": "code",
   "execution_count": null,
   "metadata": {},
   "outputs": [],
   "source": [
    "G_p2a = F_p2a * K_p2a\n",
    "g_p2a = np.fft.ifft2(G_p2a)\n",
    "\n",
    "plt.imshow(g_p2a.real, cmap='gray')\n",
    "plt.show()"
   ]
  },
  {
   "cell_type": "markdown",
   "metadata": {},
   "source": [
    "Convolução no domínio do espaço e transformada de fourier do resultado"
   ]
  },
  {
   "cell_type": "code",
   "execution_count": null,
   "metadata": {},
   "outputs": [],
   "source": [
    "g_p2b = ia.pconv(f_p2a, kernel_p2a)\n",
    "\n",
    "plt.imshow(g_p2b.real, cmap='gray')\n",
    "plt.show()\n",
    "\n",
    "G_p2b = np.fft.fft2(g_p2b)"
   ]
  },
  {
   "cell_type": "markdown",
   "metadata": {},
   "source": [
    "Comparação com numpy.allclose"
   ]
  },
  {
   "cell_type": "code",
   "execution_count": null,
   "metadata": {},
   "outputs": [],
   "source": [
    "print(np.allclose(G_p2a, G_p2b))"
   ]
  },
  {
   "cell_type": "markdown",
   "metadata": {},
   "source": [
    "### Parte3 - Decomposição de uma imagem em senóides\n",
    "\n",
    "Implemente uma função para demonstrar a decomposição/composição de uma imagem a partir da DFT. A ideia consiste em ter 4 figuras por iteração: \n",
    "\n",
    "- imagem original, \n",
    "- imagem recomposta até aquela iteração, \n",
    "- espectro de Fourier, e \n",
    "- última componente (\"telha\") a ser adicionada. \n",
    "\n",
    "A medida que um novo par *F(u,v)* e *F(-u,-v)* em cada iteração é adicionado para compor a imagem original, o par deve ser mostrado na janela do espectro de Fourier e na forma de imagem (\"telha\"). A ordem de pegar estas frequências pode ser uma varredura quadrada em torno do centro do espectro. Lembrar de pegar sempre um par simétrico da DFT, *F(u,v)* e *F(-u,-v)*. A função deverá receber como parâmetro de entrada quantas iterações serão realizadas, ou seja, quantas componentes serão adicionadas para compor a imagem original. "
   ]
  },
  {
   "cell_type": "code",
   "execution_count": null,
   "metadata": {},
   "outputs": [],
   "source": [
    "def shift_slice(img, rr, cc):\n",
    "    \n",
    "    f = np.array(img)\n",
    "    r, c = f.shape\n",
    "\n",
    "    c1 = cc%c\n",
    "    r1 = rr%r\n",
    "    g = np.concatenate(( np.concatenate((f[r-r1:,c-c1:], f[r-r1:,:c-c1]), axis=1) , \\\n",
    "                         np.concatenate((f[:r-r1, c-c1:], f[:r-r1, :c-c1]), axis=1) ))\n",
    "\n",
    "    return g"
   ]
  },
  {
   "cell_type": "code",
   "execution_count": null,
   "metadata": {},
   "outputs": [],
   "source": [
    "def show_fourier(F):\n",
    "    F_final = ia.normalize(np.log(np.abs(shift_slice(F,F.shape[0]//2,F.shape[1]//2)+1)))\n",
    "    return F_final"
   ]
  },
  {
   "cell_type": "code",
   "execution_count": null,
   "metadata": {},
   "outputs": [],
   "source": [
    "from matplotlib import image as mpimg\n",
    "from matplotlib import pyplot as plt\n",
    "import numpy as np\n",
    "from numpy.fft import fft2,ifft2\n",
    "\n",
    "def decomposition(img, iterations):\n",
    "    \n",
    "    count = 0\n",
    "    f = np.array(img)\n",
    "    \n",
    "    F_final = np.zeros(f.shape, dtype=complex)\n",
    "    \n",
    "    F = np.fft.fft2(f)\n",
    "    \n",
    "    F_aux = np.zeros(f.shape, dtype=complex)\n",
    "    \n",
    "    if iterations <= len(f.ravel())//2:\n",
    "        N = iterations\n",
    "    else:\n",
    "        N = len(f.ravel())//2\n",
    "\n",
    "    for i in range(f.shape[0]):\n",
    "        for j in range(f.shape[1]):\n",
    "            F_aux = np.zeros(f.shape, dtype=complex)\n",
    "            F_aux[i, j] = F[i, j]\n",
    "            F_aux[-(i+1),-(j+1)] =  F[-(i+1),-(j+1)]\n",
    "            F_final += F_aux\n",
    "            \n",
    "            count +=1\n",
    "            \n",
    "            if count == N:\n",
    "                break\n",
    "        if count == N:\n",
    "            break\n",
    "    f_aux = np.fft.ifft2(F_aux)\n",
    "\n",
    "    f_final = np.fft.ifft2(F_final)\n",
    "\n",
    "    f3 = np.fft.ifft2(F)\n",
    "\n",
    "    fig = plt.figure(figsize=[10, 10])\n",
    "    fig.add_subplot(221)\n",
    "    plt.imshow(np.abs(f), cmap='gray')\n",
    "\n",
    "    fig.add_subplot(222)\n",
    "    plt.imshow(np.abs(f_final), cmap='gray')\n",
    "    \n",
    "    fig.add_subplot(223)\n",
    "    plt.imshow(show_fourier(F_final), cmap='gray')\n",
    "    \n",
    "    fig.add_subplot(224)\n",
    "    plt.imshow(np.abs(f_aux), cmap='gray')\n",
    "    plt.show()"
   ]
  },
  {
   "cell_type": "markdown",
   "metadata": {},
   "source": [
    "Ao invés da janela quadrada, eu fiz a varredura começando da origem, mas somente incrementando os índices. Como fiz sem transladar a imagem no domínio das frequências, bastou começar no canto superior direito. Defini para cobrir somente metade da imagem, já que os pontos são selecionados sempre simétrico-conjugadamente."
   ]
  },
  {
   "cell_type": "code",
   "execution_count": null,
   "metadata": {},
   "outputs": [],
   "source": [
    "import os, sys\n",
    "ia898path = os.path.abspath('../../')\n",
    "if ia898path not in sys.path:\n",
    "    sys.path.append(ia898path)\n",
    "import ia898.src as ia\n",
    "\n",
    "from matplotlib import image as mpimg\n",
    "from matplotlib import pyplot as plt\n",
    "import numpy as np\n",
    "from numpy.fft import fft2,ifft2\n",
    "\n",
    "f1 = mpimg.imread('../data/cameraman.tif')\n",
    "\n",
    "decomposition(f1, 6000)"
   ]
  }
 ],
 "metadata": {
  "kernelspec": {
   "display_name": "Python 3",
   "language": "python",
   "name": "python3"
  },
  "language_info": {
   "codemirror_mode": {
    "name": "ipython",
    "version": 3
   },
   "file_extension": ".py",
   "mimetype": "text/x-python",
   "name": "python",
   "nbconvert_exporter": "python",
   "pygments_lexer": "ipython3",
   "version": "3.6.5"
  }
 },
 "nbformat": 4,
 "nbformat_minor": 2
}
