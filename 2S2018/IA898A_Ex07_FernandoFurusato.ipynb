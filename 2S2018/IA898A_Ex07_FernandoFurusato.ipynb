{
 "cells": [
  {
   "cell_type": "markdown",
   "metadata": {},
   "source": [
    "# Ex07 - Propriedades da DFT"
   ]
  },
  {
   "cell_type": "markdown",
   "metadata": {},
   "source": [
    "### Parte 1 - Convolução periódica\n",
    "\n",
    "Tente entender a convolução periódica [(notebook)](11 Teorema da Convolucao.ipynb), comparando-a com a convolução já estudada anteriormente (scypi.signal.convolve2d). Avalie as diferenças em um exemplo numérico pequeno e depois, utilizando uma imagem.\n",
    "\n",
    "- Desafio opcional: crie um exemplo com uma imagem numérica pequena e um kernel 3x3. Tente obter o mesmo resultado usando a função *convp* e a função *scypi.signal.convolve2d*. Ou seja, implemente a convolução periódica a partir da convolução linear."
   ]
  },
  {
   "cell_type": "markdown",
   "metadata": {},
   "source": [
    "### Parte 2 - Teorema da convolução\n",
    "\n",
    "Crie uma demonstração usando imagens para o Teorema da Convolução. Lembre-se, o objetivo é mostrar que o teorema é válido, ou seja, que $ F(f * g) = F(f) \\cdot F(g) $"
   ]
  },
  {
   "cell_type": "markdown",
   "metadata": {},
   "source": [
    "### Parte3 - Decomposição de uma imagem em senóides\n",
    "\n",
    "Implemente uma função para demonstrar a decomposição/composição de uma imagem a partir da DFT. A ideia consiste em ter 4 figuras por iteração: \n",
    "\n",
    "- imagem original, \n",
    "- imagem recomposta até aquela iteração, \n",
    "- espectro de Fourier, e \n",
    "- última componente (\"telha\") a ser adicionada. \n",
    "\n",
    "A medida que um novo par *F(u,v)* e *F(-u,-v)* em cada iteração é adicionado para compor a imagem original, o par deve ser mostrado na janela do espectro de Fourier e na forma de imagem (\"telha\"). A ordem de pegar estas frequências pode ser uma varredura quadrada em torno do centro do espectro. Lembrar de pegar sempre um par simétrico da DFT, *F(u,v)* e *F(-u,-v)*. A função deverá receber como parâmetro de entrada quantas iterações serão realizadas, ou seja, quantas componentes serão adicionadas para compor a imagem original. "
   ]
  },
  {
   "cell_type": "code",
   "execution_count": null,
   "metadata": {},
   "outputs": [],
   "source": [
    "from matplotlib import image as mpimg\n",
    "from matplotlib import pyplot as plt\n",
    "import numpy as np\n",
    "from numpy.fft import fft2,ifft2\n",
    "\n",
    "def decomposition(img, iterations):\n",
    "    \n",
    "    count = 0\n",
    "    f = np.array(img)\n",
    "    \n",
    "    F_final = np.zeros(f.shape, dtype=complex)\n",
    "    \n",
    "    F = np.fft.fft2(f)\n",
    "    \n",
    "    F_aux = np.zeros(f.shape, dtype=complex)\n",
    "    \n",
    "    if iterations <= len(f.ravel()-1)//4:\n",
    "        N = iterations\n",
    "    else:\n",
    "        N = len(f.ravel()-1)//4\n",
    "\n",
    "    for i in range((N-1)//2):\n",
    "        for j in range((N-1)//2):\n",
    "            F_aux = np.zeros(f.shape, dtype=complex)\n",
    "            F_aux[i, j] = F[i, j]\n",
    "            F_aux[-(i+1),-(j+1)] =  F[-(i+1),-(j+1)]\n",
    "            F_final += F_aux\n",
    "\n",
    "    f_aux = np.fft.ifft2(F_aux)\n",
    "    plt.imshow(np.abs(f_aux), cmap='gray')\n",
    "    plt.show()\n",
    "    \n",
    "    f_final = np.fft.ifft2(F_final)\n",
    "    \n",
    "    plt.imshow(np.abs(f_final), cmap='gray')\n",
    "    plt.show()\n",
    "    \n",
    "    f3 = np.fft.ifft2(F)\n",
    "    \n",
    "    plt.imshow(np.abs(f), cmap='gray')\n",
    "    plt.show()"
   ]
  },
  {
   "cell_type": "code",
   "execution_count": null,
   "metadata": {},
   "outputs": [],
   "source": [
    "import os, sys\n",
    "ia898path = os.path.abspath('../../')\n",
    "if ia898path not in sys.path:\n",
    "    sys.path.append(ia898path)\n",
    "import ia898.src as ia\n",
    "\n",
    "from matplotlib import image as mpimg\n",
    "from matplotlib import pyplot as plt\n",
    "import numpy as np\n",
    "from numpy.fft import fft2,ifft2\n",
    "\n",
    "f1 = mpimg.imread('../data/cameraman.tif')\n",
    "\n",
    "decomposition(f1, 514)"
   ]
  },
  {
   "cell_type": "code",
   "execution_count": null,
   "metadata": {},
   "outputs": [],
   "source": [
    "a = np.arange(36)\n",
    "a = a.reshape((6,6))\n",
    "\n",
    "N = (len(a.ravel())-1)//4\n",
    "\n",
    "print(a)\n",
    "\n",
    "for i in range((N-1)//2):\n",
    "    for j in range((N-1)//2):\n",
    "        print(a[i,j])\n",
    "    "
   ]
  },
  {
   "cell_type": "code",
   "execution_count": null,
   "metadata": {},
   "outputs": [],
   "source": [
    "from matplotlib import image as mpimg\n",
    "from matplotlib import pyplot as plt\n",
    "import numpy as np\n",
    "from numpy.fft import fft2,ifft2\n",
    "\n",
    "f1 = mpimg.imread('lemon_only.png')\n",
    "\n",
    "N = 2\n",
    "\n",
    "F1 = np.fft.fft2(f1)\n",
    "\n",
    "F5 = np.zeros(F1.shape)\n",
    "\n",
    "F5[N, N], F5[-(N+1),-(N+1)] = F1[N, N], F1[-(N+1),-(N+1)]\n",
    "\n",
    "f5 = np.fft.ifft2(F5)\n",
    "\n",
    "# plt.imshow(np.log(np.abs(f5) + 1))\n",
    "plt.figure(figsize=[10,10])\n",
    "plt.imshow(np.fft.fftshift(np.abs(f5)), cmap='gray')\n",
    "plt.show()"
   ]
  }
 ],
 "metadata": {
  "kernelspec": {
   "display_name": "Python 3",
   "language": "python",
   "name": "python3"
  },
  "language_info": {
   "codemirror_mode": {
    "name": "ipython",
    "version": 3
   },
   "file_extension": ".py",
   "mimetype": "text/x-python",
   "name": "python",
   "nbconvert_exporter": "python",
   "pygments_lexer": "ipython3",
   "version": "3.5.2"
  }
 },
 "nbformat": 4,
 "nbformat_minor": 2
}
