{
 "cells": [
  {
   "cell_type": "markdown",
   "metadata": {},
   "source": [
    "# Ex08 Aplicações da DFT\n",
    "\n",
    "## Parte 1 - Filtragem no Domínio da Frequência\n",
    "\n",
    "Dos itens abaixo *a*, *b* e *c* você deve fazer obrigatoriamente o item *a* e no mínimo mais um item: *b* ou *c*. Nada impede você de fazer os 3 itens: *a*, *b* e *c*.\n",
    "\n",
    "### a. Projetando filtros no domínio da frequência\n",
    "\n",
    "Para projetar os filtros no domínio da frequência, utilize imagens sintéticas, como círculo ou quadrado ou retângulo (filtros ideais), tomando-se o cuidado para verificar se estes filtros são complexos-conjugados. Se preciso, crie uma função que retorne *True*, caso a imagem seja complexa conjugada e *False*, caso contrário. Lembre-se também que o projeto do filtro é normalmente feito no espectro ótico de Fourier, mas sua aplicação é feita com coordenadas 0 a N-1.\n",
    "\n",
    "Teste os filtros projetados filtrando alguma imagem.\n",
    "\n",
    "### b. Filtro Butterworth\n",
    "\n",
    "Crie uma função para projetar um filtro passa-baixas Butterworth. A função de transferência do filtro passa-baixas de Butterworth de ordem $n$ e com posição da frequência de corte a uma distância $D_0$ da origem é definida pela relação $$ H(u,v) = \\frac{1}{1 + [\\frac{D(u,v)}{D_0}]^{2n}}, $$ onde $n$ é a ordem do filtro. Para facilitar a implementação, podemos usar a seguinte expressão: $$ H(u,v) = \\frac{1}{1 + (\\sqrt{2} - 1)(\\sqrt{(\\frac{u}{N})^2 + (\\frac{v}{M})^2)}.t_c)^{2n}}$$ com $$ u \\in{[-\\frac{N}{2},N - \\frac{N}{2} -1]}$$ $$ v \\in{[-\\frac{M}{2},M - \\frac{M}{2} -1]}$$ $$ t_c \\in{[2, max\\{N,M\\}]}$$\n",
    "\n",
    "Compare o resultado da filtragem de uma imagem usando um filtro ideal e o filtro de Butterworth.\n",
    "\n",
    "### c.  Filtrando uma imagem com textura\n",
    "\n",
    "Veja que a imagem do código de barras a seguir possui uma textura no fundo. Projete um filtro (em frequencia) que elimine esta textura, sem borrar demais a imagem."
   ]
  },
  {
   "cell_type": "code",
   "execution_count": null,
   "metadata": {},
   "outputs": [],
   "source": [
    "%matplotlib inline\n",
    "import matplotlib.pyplot as plt\n",
    "import matplotlib.image as mpimg\n",
    "\n",
    "f = mpimg.imread('../data/barcode.tif')\n",
    "plt.figure(figsize=(8,8))\n",
    "plt.imshow(f,cmap='gray');\n",
    "plt.show()"
   ]
  },
  {
   "cell_type": "code",
   "execution_count": null,
   "metadata": {},
   "outputs": [],
   "source": [
    "import numpy as np\n",
    "from numpy.fft import fft2,ifft2\n",
    "import sys,os\n",
    "ia898path = os.path.abspath('../../')\n",
    "if ia898path not in sys.path:\n",
    "    sys.path.append(ia898path)\n",
    "import ia898.src as ia"
   ]
  },
  {
   "cell_type": "code",
   "execution_count": null,
   "metadata": {},
   "outputs": [],
   "source": [
    "def shift_slice(img, rr, cc):\n",
    "    \n",
    "    f = np.array(img)\n",
    "    r, c = f.shape\n",
    "\n",
    "    c1 = cc%c\n",
    "    r1 = rr%r\n",
    "    g = np.concatenate(( np.concatenate((f[r-r1:,c-c1:], f[r-r1:,:c-c1]), axis=1) , \\\n",
    "                         np.concatenate((f[:r-r1, c-c1:], f[:r-r1, :c-c1]), axis=1) ))\n",
    "    return g"
   ]
  },
  {
   "cell_type": "markdown",
   "metadata": {},
   "source": [
    "### Parte 1.a"
   ]
  },
  {
   "cell_type": "code",
   "execution_count": null,
   "metadata": {},
   "outputs": [],
   "source": [
    "f1_p1 = np.array(mpimg.imread('../data/gull.pgm'))\n",
    "W1, H1 = f1_p1.shape"
   ]
  },
  {
   "cell_type": "code",
   "execution_count": null,
   "metadata": {},
   "outputs": [],
   "source": [
    "H3_p1 = ia.circle(f1_p1.shape, 50, [W1//2, H1//2])\n",
    "H3_p1_shift = shift_slice(H3_p1, H3_p1.shape[0]//2, H3_p1.shape[1]//2)\n",
    "H2_p1 = np.ones(f1_p1.shape)\n",
    "H2_p1[(W1//2)-50:-((W1//2)-49),(H1//2)-50:-((H1//2)-49)] = 0\n",
    "H2_p1_shift = shift_slice(H2_p1, H2_p1.shape[0]//2, H2_p1.shape[1]//2)\n",
    "\n",
    "fig = plt.figure(figsize=[12, 10])\n",
    "\n",
    "fig.add_subplot(221)\n",
    "plt.imshow(H3_p1, cmap='gray')\n",
    "\n",
    "fig.add_subplot(222)\n",
    "plt.imshow(H3_p1_shift, cmap='gray')\n",
    "\n",
    "fig.add_subplot(223)\n",
    "plt.imshow(H2_p1, cmap='gray')\n",
    "\n",
    "fig.add_subplot(224)\n",
    "plt.imshow(H2_p1_shift, cmap='gray')\n",
    "plt.show()"
   ]
  },
  {
   "cell_type": "code",
   "execution_count": null,
   "metadata": {},
   "outputs": [],
   "source": [
    "def show_fft(F):\n",
    "    return shift_slice(np.log(np.abs(F)+1), F.shape[0]//2, F.shape[1]//2)"
   ]
  },
  {
   "cell_type": "code",
   "execution_count": null,
   "metadata": {},
   "outputs": [],
   "source": [
    "F1_p1 = np.fft.fft2(f1_p1)\n",
    "G4_p1 = F1_p1 * H2_p1_shift\n",
    "g4_p1 = np.fft.ifft2(G4_p1)\n",
    "\n",
    "G5_p1 = F1_p1 * H3_p1_shift\n",
    "g5_p1 = np.fft.ifft2(G5_p1)"
   ]
  },
  {
   "cell_type": "code",
   "execution_count": null,
   "metadata": {},
   "outputs": [],
   "source": [
    "fig = plt.figure(figsize=[12, 15])\n",
    "\n",
    "fig.add_subplot(321)\n",
    "plt.imshow(f1_p1, cmap='gray')\n",
    "\n",
    "fig.add_subplot(322)\n",
    "plt.imshow(show_fft(F1_p1), cmap='gray')\n",
    "\n",
    "fig.add_subplot(324)\n",
    "plt.imshow(show_fft(G4_p1), cmap='gray')\n",
    "\n",
    "fig.add_subplot(323)\n",
    "plt.imshow(g4_p1.real, cmap='gray')\n",
    "\n",
    "fig.add_subplot(325)\n",
    "plt.imshow(g5_p1.real, cmap='gray')\n",
    "\n",
    "fig.add_subplot(326)\n",
    "plt.imshow(show_fft(G5_p1), cmap='gray')\n",
    "\n",
    "plt.show()"
   ]
  },
  {
   "cell_type": "markdown",
   "metadata": {},
   "source": [
    "### Parte 1.c"
   ]
  },
  {
   "cell_type": "code",
   "execution_count": null,
   "metadata": {},
   "outputs": [],
   "source": [
    "H1_p1 = ia.circle([256, 256], 50, [128,128])\n",
    "H1_p1_shift = shift_slice(H1_p1, H1_p1.shape[0]//2, H1_p1.shape[1]//2)"
   ]
  },
  {
   "cell_type": "code",
   "execution_count": null,
   "metadata": {},
   "outputs": [],
   "source": [
    "# F_p1 = shift_slice( show_fourier(np.fft.fft2(f)), f.shape[0]//2, f.shape[1]//2 )\n",
    "F_p1 = np.fft.fft2(f)\n",
    "\n",
    "plt.imshow(np.log(np.abs(F_p1)+1), cmap='gray')\n",
    "plt.show()"
   ]
  },
  {
   "cell_type": "code",
   "execution_count": null,
   "metadata": {},
   "outputs": [],
   "source": [
    "G1_p1 = F_p1 * H1_p1_shift\n",
    "\n",
    "plt.imshow(np.log(np.abs(G1_p1)+1), cmap='gray')\n",
    "plt.show()\n",
    "\n",
    "g1_p1 = np.fft.ifft2(G1_p1).real"
   ]
  },
  {
   "cell_type": "code",
   "execution_count": null,
   "metadata": {},
   "outputs": [],
   "source": [
    "h_p1 = ia.histogram(ia.normalize(np.log(np.abs(F_p1) + 1)))\n",
    "plt.plot(h_p1)\n",
    "plt.show()"
   ]
  },
  {
   "cell_type": "code",
   "execution_count": null,
   "metadata": {},
   "outputs": [],
   "source": [
    "T1_p1 = np.arange(256).astype('uint8')\n",
    "T2_p1 = ia.normalize(T1_p1 > 130)\n",
    "T3_p1 = ia.normalize(255 - T1_p1)\n",
    "fig = plt.figure(figsize=[10,10])\n",
    "g3_p1 = T2_p1[ia.normalize(np.log(np.abs(F_p1) + 1))]\n",
    "g2_p1 = T3_p1[g3_p1]\n",
    "\n",
    "H1_p1 = ia.circle([256, 256], 50, [128,128])\n",
    "\n",
    "H1_p1[(H1_p1.shape[0]//2)-5:(H1_p1.shape[0]//2)+5, :]=255\n",
    "H1_p1[:, (H1_p1.shape[0]//2)-5:(H1_p1.shape[0]//2)+5]=255\n",
    "\n",
    "H1_p1_shift = shift_slice(H1_p1, H1_p1.shape[0]//2, H1_p1.shape[1]//2)\n",
    "\n",
    "H_final = g2_p1+ia.normalize(H1_p1_shift)\n",
    "\n",
    "fig = plt.figure(figsize=[12,10])\n",
    "fig.add_subplot(221)\n",
    "plt.imshow(g3_p1, cmap='gray')\n",
    "\n",
    "fig.add_subplot(222)\n",
    "plt.imshow(ia.normalize(H1_p1_shift)//2, cmap='gray')\n",
    "\n",
    "fig.add_subplot(223)\n",
    "plt.imshow(H_final, cmap='gray')\n",
    "\n",
    "fig.add_subplot(224)\n",
    "plt.imshow(g2_p1+ia.normalize(H1_p1_shift), cmap='gray')\n",
    "\n",
    "plt.show()\n"
   ]
  },
  {
   "cell_type": "code",
   "execution_count": null,
   "metadata": {},
   "outputs": [],
   "source": [
    "G_final = F_p1 * H_final\n",
    "\n",
    "g_final = np.fft.ifft2(G_final).real"
   ]
  },
  {
   "cell_type": "code",
   "execution_count": null,
   "metadata": {},
   "outputs": [],
   "source": [
    "fig = plt.figure(figsize=[20,30])\n",
    "fig.add_subplot(321)\n",
    "plt.imshow(f, cmap='gray')\n",
    "\n",
    "fig.add_subplot(322)\n",
    "plt.imshow(np.log(np.abs(F_p1)+1), cmap='gray')\n",
    "\n",
    "fig.add_subplot(323)\n",
    "plt.imshow(g1_p1, cmap='gray')\n",
    "\n",
    "fig.add_subplot(324)\n",
    "plt.imshow(np.log(np.abs(G1_p1)+1), cmap='gray')\n",
    "\n",
    "fig.add_subplot(325)\n",
    "plt.imshow(g_final, cmap='gray')\n",
    "\n",
    "fig.add_subplot(326)\n",
    "plt.imshow(np.log(np.abs(G_final) + 1), cmap='gray')\n",
    "\n",
    "plt.show()"
   ]
  },
  {
   "cell_type": "markdown",
   "metadata": {},
   "source": [
    "## Parte 2 - Identificando Translação/Rotação por Correlação de Fase\n",
    "\n",
    "Dos itens abaixo *a*, *b* e *c* você deve fazer obrigatoriamente o item *a* e no mínimo mais um item: *b* ou *c*. Nada impede você de fazer os 3 itens: *a*, *b* e *c*.\n",
    "\n",
    "Através da Correlação de fase é possível identificar uma translação ou uma rotação sofrida por uma imagem (veja o notebook [Correlação de Fase](13 Correlacao de fase.ipynb)). \n",
    "\n",
    "### a. Coordenada polar da imagem ou da DFT?\n",
    "\n",
    "Para identificar a rotação, a imagem é transformada para coordenadas polares, para depois ser aplicada a Transformada de Fourier e então calculada a correlação de fase. Verifique se é equivalente fazer a transformada de Fourier e só depois fazer a conversão para coordenadas polares no domínio da frequência para então computar a correlação de fase;\n",
    "\n",
    "### b. Rotação e translação simultaneas\n",
    "\n",
    "Imagine agora que uma imagem tenha sofrido rotação e translação simultaneamente. Tente agora identificar ambas transformações com esta mesma técnica. (DICA: Tente resolver o problema em 2 etapas, ou seja, aplicando 2 vezes os passos para a correlação de fase);\n",
    "    c. (Opcional) Identifique o quão robusta é esta técnica, com relação a: ruído, variação de contraste, escala\n",
    "\n",
    "### c. *Template Matching* \n",
    "\n",
    "Experimente resolver um problema de *Template Matching* usando correlação fase. Ou seja, recorte um pedaço de uma imagem e tente encontrar este pedaço na imagem original maior."
   ]
  },
  {
   "cell_type": "code",
   "execution_count": null,
   "metadata": {},
   "outputs": [],
   "source": [
    "def phasecorr(f,h):\n",
    "    F = np.fft.fft2(f)\n",
    "    H = np.fft.fft2(h)\n",
    "    T = F * np.conjugate(H)\n",
    "    R = T/np.abs(T)\n",
    "    g = np.fft.ifft2(R)\n",
    "    return g.real"
   ]
  },
  {
   "cell_type": "code",
   "execution_count": null,
   "metadata": {},
   "outputs": [],
   "source": [
    "f1_p2 = mpimg.imread('../data/gull.pgm')\n",
    "\n",
    "\n",
    "# Inserindo uma borda de zeros para permitir a rotação da imagem\n",
    "t = np.zeros(np.array(f1_p2.shape)+100,dtype=np.uint8)\n",
    "t[50:f1_p2.shape[0]+50,50:f1_p2.shape[1]+50] = f1_p2\n",
    "f1_p2 = t\n",
    "    \n",
    "t1 = np.array([\n",
    "             [1,0,-f1_p2.shape[0]/2.],\n",
    "             [0,1,-f1_p2.shape[1]/2.],\n",
    "             [0,0,1]]);\n",
    "\n",
    "t2 = np.array([\n",
    "             [1,0,f1_p2.shape[0]/2.],\n",
    "             [0,1,f1_p2.shape[1]/2.],\n",
    "             [0,0,1]]);\n",
    "\n",
    "plt.imshow(f1_p2, cmap='gray')\n",
    "plt.show()"
   ]
  },
  {
   "cell_type": "code",
   "execution_count": null,
   "metadata": {},
   "outputs": [],
   "source": [
    "# Rotacionando a imagem -30 graus\n",
    "W,H = f1_p2.shape\n",
    "theta = np.radians(60)\n",
    "r1 = np.array([\n",
    "        [np.cos(theta),-np.sin(theta),0],\n",
    "        [np.sin(theta),np.cos(theta),0],\n",
    "        [0,0,1]]);\n",
    "    \n",
    "T = t2.dot(r1).dot(t1)\n",
    "f_rot = ia.affine(f1_p2,T,0)\n",
    "\n",
    "plt.figure(1,(10,10))\n",
    "plt.subplot(1,2,1)\n",
    "plt.imshow(f1_p2, cmap='gray')\n",
    "plt.title('Imagem original')\n",
    "\n",
    "plt.subplot(1,2,2)\n",
    "plt.imshow(f_rot, cmap='gray')\n",
    "plt.title('Imagem rotacionada')\n",
    "plt.show()\n",
    "\n",
    "F1_p2 = np.fft.fft2(f1_p2)\n",
    "F1_rot = np.fft.fft2(f_rot)\n",
    "\n",
    "plt.figure(1,(10,10))\n",
    "plt.subplot(1,2,1)\n",
    "plt.imshow(shift_slice(np.log(np.abs(F1_p2) + 1), W//2,H//2), cmap='gray')\n",
    "plt.title('Imagem original')\n",
    "\n",
    "plt.subplot(1,2,2)\n",
    "plt.imshow(shift_slice(np.log(np.abs(F1_rot) + 1), W//2,H//2), cmap='gray')\n",
    "plt.title('Imagem rotacionada')\n",
    "plt.show()"
   ]
  },
  {
   "cell_type": "code",
   "execution_count": null,
   "metadata": {},
   "outputs": [],
   "source": [
    "F_polar = ia.polar(F1_p2.real,(150,200),2*np.pi)\n",
    "F_rot_polar = ia.polar(F1_rot.real,(150,200),2*np.pi)\n",
    "\n",
    "plt.figure(1,(10,10))\n",
    "plt.subplot(1,2,1)\n",
    "plt.imshow(F_polar, cmap='gray')\n",
    "plt.title('Imagem original (coord. polar)')\n",
    "\n",
    "plt.subplot(1,2,2)\n",
    "plt.imshow(F_rot_polar, cmap='gray')\n",
    "plt.title('Imagem rotacionada (coord. polar)')\n",
    "\n",
    "plt.show()"
   ]
  },
  {
   "cell_type": "code",
   "execution_count": null,
   "metadata": {},
   "outputs": [],
   "source": [
    "T = F_polar * np.conjugate(F_rot_polar)\n",
    "R = T/np.abs(T)\n",
    "g = np.fft.ifft2(R)\n",
    "g.real\n",
    "\n",
    "# Encontrando o ponto de máxima correlação \n",
    "i = np.argmax(g.real)\n",
    "corr = np.unravel_index(i,g.real.shape)\n",
    "\n",
    "# Calculate the angle\n",
    "ang = (float(corr[1])/g.real.shape[1])*360\n",
    "print('Ponto de máxima correlação: ',ang)"
   ]
  },
  {
   "cell_type": "code",
   "execution_count": null,
   "metadata": {},
   "outputs": [],
   "source": [
    "W,H = f.shape\n",
    "f_polar = ia.polar(f1_p2,(150,200),2*np.pi)\n",
    "f_rot_polar = ia.polar(f_rot,(150,200),2*np.pi)\n",
    "\n",
    "plt.figure(1,(10,10))\n",
    "plt.subplot(1,2,1)\n",
    "plt.imshow(f_polar, cmap='gray')\n",
    "plt.title('Imagem original (coord. polar)')\n",
    "\n",
    "plt.subplot(1,2,2)\n",
    "plt.imshow(f_rot_polar, cmap='gray')\n",
    "plt.title('Imagem rotacionada (coord. polar)')\n",
    "# Calculando a correlação de fase\n",
    "g = ia.phasecorr(f_polar,f_rot_polar)\n",
    "\n",
    "# Encontrando o ponto de máxima correlação \n",
    "i = np.argmax(g)\n",
    "corr = np.unravel_index(i,g.shape)\n",
    "\n",
    "# Calculate the angle\n",
    "ang = (float(corr[1])/g.shape[1])*360\n",
    "print('Ponto de máxima correlação: ',ang)"
   ]
  },
  {
   "cell_type": "markdown",
   "metadata": {},
   "source": [
    "### Parte 2.c\n",
    "**Fernando:** Não sei se o método foi muito preciso ao ser utilizado para localizar um fragmento dentro de uma imagem. Na primeira imagem, da gaivota, a localização está totalmente fora do real.\n",
    "Na imagem seguinte, da menina, pareceu funcionar, mas eu não mudei a localização do fragmento dentro da imagem."
   ]
  },
  {
   "cell_type": "code",
   "execution_count": null,
   "metadata": {},
   "outputs": [],
   "source": [
    "f2_p2 = np.array(mpimg.imread('../data/gull.pgm'))\n",
    "f3_p2 = np.zeros(f2_p2.shape)\n",
    "f3_p2[10:61,10:61] = f2_p2[100:151,100:151]\n",
    "# f3_p2[100:151,100:151] = f2_p2[100:151,100:151]\n",
    "\n",
    "g1_p2 = ia.phasecorr(f2_p2, f3_p2)\n",
    "\n",
    "plt.imshow(f3_p2, cmap='gray')\n",
    "plt.show()\n",
    "\n",
    "i = np.argmax(g1_p2)\n",
    "l,c = np.unravel_index(i, g1_p2.shape)\n",
    "corr = np.array(f2_p2.shape) - np.array((l,c))\n",
    "print(corr)"
   ]
  },
  {
   "cell_type": "code",
   "execution_count": null,
   "metadata": {},
   "outputs": [],
   "source": [
    "f2_p2[corr[0]-5:corr[1]+5, corr[1]-5:corr[1]+5] = 0\n",
    "plt.imshow(f2_p2, cmap='gray')\n",
    "plt.show()"
   ]
  },
  {
   "cell_type": "code",
   "execution_count": null,
   "metadata": {},
   "outputs": [],
   "source": [
    "f4_p2 = np.array(mpimg.imread('../data/lenina.pgm'))\n",
    "f5_p2 = np.zeros(f4_p2.shape)\n",
    "# f5_p2[10:61,10:61] = f4_p2[100:151,100:151]\n",
    "f5_p2[100:151,100:151] = f4_p2[100:151,100:151]\n",
    "\n",
    "g2_p2 = ia.phasecorr(f4_p2, f5_p2)\n",
    "\n",
    "plt.imshow(f5_p2, cmap='gray')\n",
    "plt.show()\n",
    "\n",
    "i = np.argmax(g2_p2)\n",
    "l,c = np.unravel_index(i, g2_p2.shape)\n",
    "corr = np.array(f4_p2.shape) - np.array((l,c))\n",
    "print(corr)"
   ]
  },
  {
   "cell_type": "code",
   "execution_count": null,
   "metadata": {},
   "outputs": [],
   "source": [
    "f4_p2[corr[0]-5:corr[1]+5, corr[1]-5:corr[1]+5] = 0\n",
    "plt.imshow(f4_p2, cmap='gray')\n",
    "plt.show()"
   ]
  }
 ],
 "metadata": {
  "kernelspec": {
   "display_name": "Python 3",
   "language": "python",
   "name": "python3"
  },
  "language_info": {
   "codemirror_mode": {
    "name": "ipython",
    "version": 3
   },
   "file_extension": ".py",
   "mimetype": "text/x-python",
   "name": "python",
   "nbconvert_exporter": "python",
   "pygments_lexer": "ipython3",
   "version": "3.6.5"
  }
 },
 "nbformat": 4,
 "nbformat_minor": 2
}
