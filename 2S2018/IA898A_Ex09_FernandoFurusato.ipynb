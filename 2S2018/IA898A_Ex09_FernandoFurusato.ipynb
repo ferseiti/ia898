{
 "cells": [
  {
   "cell_type": "markdown",
   "metadata": {},
   "source": [
    "# Ex09 - Técnicas de segmentação"
   ]
  },
  {
   "cell_type": "code",
   "execution_count": null,
   "metadata": {},
   "outputs": [],
   "source": [
    "%matplotlib inline\n",
    "import matplotlib.pyplot as plt\n",
    "import matplotlib.image as mpimg\n",
    "import numpy as np\n",
    "import sys,os\n",
    "ia898path = os.path.abspath('../../')\n",
    "if ia898path not in sys.path:\n",
    "    sys.path.append(ia898path)\n",
    "import ia898.src as ia"
   ]
  },
  {
   "cell_type": "markdown",
   "metadata": {},
   "source": [
    "### Parte 1 - Segmentando múltiplos objetos por limiarização\n",
    "\n",
    "A limiarização também pode ser feita em imagens com mais de um objeto e usando limiares múltiplos. Tente segmentar separadamente a cartela de comprimidos em uma imagem e os comprimidos em outra. Utilize o hstograma da imagem para escolher os limiares."
   ]
  },
  {
   "cell_type": "code",
   "execution_count": null,
   "metadata": {},
   "outputs": [],
   "source": [
    "im2 = mpimg.imread('../data/astablet.tif')\n",
    "plt.imshow(im2, cmap='gray')"
   ]
  },
  {
   "cell_type": "code",
   "execution_count": null,
   "metadata": {},
   "outputs": [],
   "source": [
    "# Algumas transformações do tutorial\n",
    "f_ex2 = ia.normalize(np.array(im2))\n",
    "\n",
    "T1_ex2 = np.arange(256).astype('uint8')\n",
    "T2_ex2 = ia.normalize(T1_ex2 > 200)\n",
    "T3_ex2 = ia.normalize(np.logical_and(T1_ex2 > 50, T1_ex2 < 200))\n",
    "\n",
    "f2_ex2 = T2_ex2[f_ex2]\n",
    "f3_ex2 = T3_ex2[f_ex2]\n",
    "\n",
    "plt.imshow(f_ex2, cmap='gray', vmax=255)\n",
    "plt.show()\n",
    "\n",
    "h_ex2 = ia.histogram(f_ex2)\n",
    "plt.title('Histograma da imagem')\n",
    "plt.plot(h_ex2)\n",
    "plt.show()\n",
    "\n",
    "fig=plt.figure(figsize=(10, 10))\n",
    "\n",
    "plt.subplot(121).axis('off')\n",
    "plt.title('Threshold em 200')\n",
    "plt.imshow(f2_ex2, cmap='gray', vmax=255)\n",
    "\n",
    "\n",
    "plt.subplot(122).axis('off')\n",
    "plt.title('Threshold entre 50 200')\n",
    "plt.imshow(f3_ex2, cmap='gray', vmax=255)\n",
    "\n",
    "plt.show()"
   ]
  },
  {
   "cell_type": "markdown",
   "metadata": {},
   "source": [
    "### Parte 2 - Demonstração da limiarização por Otsu\n",
    "\n",
    "Tente melhorar a demonstração da limiarização por Otsu ([Demo](../master/otsudemo.ipynb))."
   ]
  },
  {
   "cell_type": "code",
   "execution_count": null,
   "metadata": {},
   "outputs": [],
   "source": [
    "def otsu(f):\n",
    "    n = np.product(np.shape(f))\n",
    "    h = 1.*np.bincount(f.ravel()) / n  \n",
    "    if len(h) == 1: return 1,1\n",
    "    x = np.arange(np.product(np.shape(h)))\n",
    "    w0 = np.cumsum(h)\n",
    "    w1 = 1 - w0\n",
    "    eps = 1e-10\n",
    "    m0 = np.cumsum(x * h) / (w0 + eps)\n",
    "    mt = m0[-1]\n",
    "    m1 = (mt - m0[0:-1]*w0[0:-1]) / w1[0:-1]\n",
    "    sB2 = w0[0:-1] * w1[0:-1] * ((m0[0:-1] - m1)**2)\n",
    "\n",
    "    t = np.argmax(sB2)\n",
    "    v = sB2[t]\n",
    "    st2 = sum((x-mt)**2 * h)\n",
    "    eta = v / st2\n",
    "\n",
    "    return t, eta"
   ]
  },
  {
   "cell_type": "code",
   "execution_count": null,
   "metadata": {},
   "outputs": [],
   "source": [
    "t, eta = otsu(f_ex2)\n",
    "plt.imshow(f_ex2 > t,cmap='gray')"
   ]
  },
  {
   "cell_type": "markdown",
   "metadata": {},
   "source": [
    "### Parte 3 - Segmentação por watershed\n",
    "\n",
    "Tentem reproduzir a demonstração de segmentação por watershed da antiga toolbox ([pdf](../data/ia870_iadbeef.pdf)). Vocês podem usar as funções de watershed implementadas na biblioteca *scipy.ndimage.measurements* ou *skimage.morphology*. Você pode também se inspirar no Seminário do Eduardo ([link](./Seminarios/Watershed.ipynb)).\n",
    "Quem quiser conhecer todos os algoritmos da Transformada de Watershed, eles estão descritos na Toolbox de Watershed desenvolvida por um de nossos alunos ([Toolbox Watershed](http://adessowiki.fee.unicamp.br/adesso/wiki/watershed/view/))"
   ]
  },
  {
   "cell_type": "code",
   "execution_count": null,
   "metadata": {},
   "outputs": [],
   "source": [
    "import matplotlib as mpt\n",
    "from scipy import ndimage\n",
    "from PIL import Image\n",
    "mpt.rc('image', cmap='gray')\n",
    "\n",
    "f_p3 = np.array(Image.open('../data/beef.tif').convert('L'))"
   ]
  },
  {
   "cell_type": "code",
   "execution_count": null,
   "metadata": {},
   "outputs": [],
   "source": [
    "plt.imshow(f_p3)\n",
    "plt.show()"
   ]
  },
  {
   "cell_type": "markdown",
   "metadata": {},
   "source": [
    "**Fernando:** O primeiro método que utilizei foi com um closing, depois uma dilatação, para que a parte da carne ficasse totalmente fechada."
   ]
  },
  {
   "cell_type": "code",
   "execution_count": null,
   "metadata": {},
   "outputs": [],
   "source": [
    "closed = ndimage.grey_closing(f_p3, size=(7, 7))\n",
    "\n",
    "closed = ndimage.grey_dilation(closed, size=(5,5))\n",
    "plt.imshow(closed)"
   ]
  },
  {
   "cell_type": "code",
   "execution_count": null,
   "metadata": {},
   "outputs": [],
   "source": [
    "markers = np.zeros_like(f_p3).astype('int16')\n",
    "markers[0,0] = 1\n",
    "markers[150,200] = 2\n",
    "markers[240,200] = 2\n",
    "\n",
    "water1 = ndimage.watershed_ift(f_p3, markers)\n",
    "\n",
    "plt.imshow(water1)\n",
    "plt.show()"
   ]
  },
  {
   "cell_type": "markdown",
   "metadata": {},
   "source": [
    "O resultado final ficou razoável, como pode ser visto abaixo. A biblioteca facilitou bastante."
   ]
  },
  {
   "cell_type": "code",
   "execution_count": null,
   "metadata": {},
   "outputs": [],
   "source": [
    "markers = np.zeros_like(closed).astype('int16')\n",
    "markers[0,0] = 1\n",
    "markers[150,200] = 2\n",
    "markers[240,200] = 1\n",
    "\n",
    "water2 = ndimage.watershed_ift(closed, markers)\n",
    "plt.imshow(water2)\n",
    "plt.show()\n",
    "\n",
    "plt.imshow(f_p3)\n",
    "plt.imshow(water2, cmap='hot', alpha=0.7)\n",
    "plt.show()"
   ]
  },
  {
   "cell_type": "code",
   "execution_count": null,
   "metadata": {},
   "outputs": [],
   "source": [
    "from skimage import data, segmentation\n",
    "from skimage import filters\n",
    "\n",
    "# coins = data.coins()\n",
    "mask = water2\n",
    "clean_border = segmentation.clear_border(water2)\n",
    "\n",
    "beef_edges = segmentation.mark_boundaries(f_p3, clean_border, color=(1,0,0), mode='thick')\n",
    "plt.imshow(beef_edges)\n",
    "plt.show()\n",
    "\n",
    "contour = segmentation.find_boundaries(water2)\n",
    "plt.imshow(contour)"
   ]
  },
  {
   "cell_type": "markdown",
   "metadata": {},
   "source": [
    "**Fenando:** No segundo método, tentei reproduzir exatamente o que está na demo, mas não consegui fazer com que o final ficasse igual, pois a segmentação do scipy não entende os marcadores que eu passei."
   ]
  },
  {
   "cell_type": "code",
   "execution_count": null,
   "metadata": {},
   "outputs": [],
   "source": [
    "small_cross = ndimage.generate_binary_structure(2,1)\n",
    "big_cross = ndimage.iterate_structure(small_cross, 80)\n",
    "\n",
    "print(big_cross)"
   ]
  },
  {
   "cell_type": "code",
   "execution_count": null,
   "metadata": {},
   "outputs": [],
   "source": [
    "dilation1 = ndimage.grey_dilation(water1, structure=small_cross)\n",
    "erosion1 = ndimage.grey_erosion(water1, (27, 27))\n",
    "external = dilation1 - erosion1\n",
    "plt.imshow(external)\n",
    "\n",
    "external[external == external.max()] = external.max() + 1"
   ]
  },
  {
   "cell_type": "code",
   "execution_count": null,
   "metadata": {},
   "outputs": [],
   "source": [
    "internal = ndimage.grey_erosion(water1, structure=big_cross)\n",
    "plt.imshow(internal)"
   ]
  },
  {
   "cell_type": "code",
   "execution_count": null,
   "metadata": {},
   "outputs": [],
   "source": [
    "union = external + internal\n",
    "plt.imshow(union)\n",
    "\n",
    "print(union)"
   ]
  },
  {
   "cell_type": "code",
   "execution_count": null,
   "metadata": {},
   "outputs": [],
   "source": [
    "gradient = ndimage.morphological_gradient(closed, structure=small_cross)\n",
    "plt.imshow(gradient)"
   ]
  },
  {
   "cell_type": "code",
   "execution_count": null,
   "metadata": {},
   "outputs": [],
   "source": [
    "plt.imshow(ia.normalize(gradient))\n",
    "plt.imshow(union, cmap='hot', alpha=0.5) # interpolation='none'\n",
    "plt.show()"
   ]
  },
  {
   "cell_type": "code",
   "execution_count": null,
   "metadata": {},
   "outputs": [],
   "source": [
    "markers = np.zeros_like(closed).astype('int16')\n",
    "\n",
    "markers[0,0] = 1\n",
    "markers[internal > 0] = 2\n",
    "markers[external > 0] = 2\n",
    "\n",
    "\n",
    "final = ndimage.watershed_ift(closed, union)\n",
    "plt.imshow(final)"
   ]
  },
  {
   "cell_type": "code",
   "execution_count": null,
   "metadata": {},
   "outputs": [],
   "source": [
    "from scipy import ndimage as ndi\n",
    "import matplotlib.pyplot as plt\n",
    "\n",
    "from skimage.morphology import watershed, disk\n",
    "from skimage import data\n",
    "from skimage.filters import rank\n",
    "from skimage.util import img_as_ubyte\n",
    "\n",
    "\n",
    "image = f_p3\n",
    "\n",
    "# denoise image\n",
    "denoised = rank.median(image, disk(2))\n",
    "\n",
    "# find continuous region (low gradient -\n",
    "# where less than 10 for this image) --> markers\n",
    "# disk(5) is used here to get a more smooth image\n",
    "markers = rank.gradient(denoised, disk(5)) < 10\n",
    "markers = ndi.label(markers)[0]\n",
    "\n",
    "# local gradient (disk(2) is used to keep edges thin)\n",
    "gradient = rank.gradient(denoised, disk(2))\n",
    "\n",
    "# process the watershed\n",
    "labels = watershed(closed, external)\n",
    "\n",
    "# display results\n",
    "fig, axes = plt.subplots(nrows=2, ncols=2, figsize=(8, 8),\n",
    "                         sharex=True, sharey=True)\n",
    "ax = axes.ravel()\n",
    "\n",
    "ax[0].imshow(image, cmap=plt.cm.gray, interpolation='nearest')\n",
    "ax[0].set_title(\"Original\")\n",
    "\n",
    "ax[1].imshow(gradient, cmap=plt.cm.nipy_spectral, interpolation='nearest')\n",
    "ax[1].set_title(\"Local Gradient\")\n",
    "\n",
    "ax[2].imshow(markers, cmap=plt.cm.nipy_spectral, interpolation='nearest')\n",
    "ax[2].set_title(\"Markers\")\n",
    "\n",
    "ax[3].imshow(image, cmap=plt.cm.gray, interpolation='nearest')\n",
    "ax[3].imshow(labels, cmap=plt.cm.nipy_spectral, interpolation='nearest', alpha=.7)\n",
    "ax[3].set_title(\"Segmented\")\n",
    "\n",
    "for a in ax:\n",
    "    a.axis('off')\n",
    "\n",
    "fig.tight_layout()\n",
    "plt.show()"
   ]
  }
 ],
 "metadata": {
  "kernelspec": {
   "display_name": "Python 3",
   "language": "python",
   "name": "python3"
  },
  "language_info": {
   "codemirror_mode": {
    "name": "ipython",
    "version": 3
   },
   "file_extension": ".py",
   "mimetype": "text/x-python",
   "name": "python",
   "nbconvert_exporter": "python",
   "pygments_lexer": "ipython3",
   "version": "3.5.2"
  }
 },
 "nbformat": 4,
 "nbformat_minor": 2
}
