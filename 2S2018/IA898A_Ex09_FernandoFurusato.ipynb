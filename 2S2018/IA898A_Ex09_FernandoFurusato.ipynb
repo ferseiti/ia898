{
 "cells": [
  {
   "cell_type": "markdown",
   "metadata": {},
   "source": [
    "# Ex09 - Técnicas de segmentação"
   ]
  },
  {
   "cell_type": "code",
   "execution_count": null,
   "metadata": {},
   "outputs": [],
   "source": [
    "%matplotlib inline\n",
    "import matplotlib.pyplot as plt\n",
    "import matplotlib.image as mpimg\n",
    "import numpy as np\n",
    "import sys,os\n",
    "ia898path = os.path.abspath('../../')\n",
    "if ia898path not in sys.path:\n",
    "    sys.path.append(ia898path)\n",
    "import ia898.src as ia"
   ]
  },
  {
   "cell_type": "markdown",
   "metadata": {},
   "source": [
    "### Parte 1 - Segmentando múltiplos objetos por limiarização\n",
    "\n",
    "A limiarização também pode ser feita em imagens com mais de um objeto e usando limiares múltiplos. Tente segmentar separadamente a cartela de comprimidos em uma imagem e os comprimidos em outra. Utilize o hstograma da imagem para escolher os limiares."
   ]
  },
  {
   "cell_type": "code",
   "execution_count": null,
   "metadata": {},
   "outputs": [],
   "source": [
    "im2 = mpimg.imread('../data/astablet.tif')\n",
    "plt.imshow(im2, cmap='gray')"
   ]
  },
  {
   "cell_type": "code",
   "execution_count": null,
   "metadata": {},
   "outputs": [],
   "source": [
    "# Algumas transformações do tutorial\n",
    "f_ex2 = ia.normalize(np.array(im2))\n",
    "\n",
    "T1_ex2 = np.arange(256).astype('uint8')\n",
    "T2_ex2 = ia.normalize(T1_ex2 > 200)\n",
    "T3_ex2 = ia.normalize(np.logical_and(T1_ex2 > 50, T1_ex2 < 200))\n",
    "\n",
    "f2_ex2 = T2_ex2[f_ex2]\n",
    "f3_ex2 = T3_ex2[f_ex2]\n",
    "\n",
    "plt.imshow(f_ex2, cmap='gray', vmax=255)\n",
    "plt.show()\n",
    "\n",
    "h_ex2 = ia.histogram(f_ex2)\n",
    "plt.title('Histograma da imagem')\n",
    "plt.plot(h_ex2)\n",
    "plt.show()\n",
    "\n",
    "fig=plt.figure(figsize=(10, 10))\n",
    "\n",
    "plt.subplot(121).axis('off')\n",
    "plt.title('Threshold em 200')\n",
    "plt.imshow(f2_ex2, cmap='gray', vmax=255)\n",
    "\n",
    "\n",
    "plt.subplot(122).axis('off')\n",
    "plt.title('Threshold entre 50 200')\n",
    "plt.imshow(f3_ex2, cmap='gray', vmax=255)\n",
    "\n",
    "plt.show()"
   ]
  },
  {
   "cell_type": "markdown",
   "metadata": {},
   "source": [
    "### Parte 2 - Demonstração da limiarização por Otsu\n",
    "\n",
    "Tente melhorar a demonstração da limiarização por Otsu ([Demo](../master/otsudemo.ipynb))."
   ]
  },
  {
   "cell_type": "code",
   "execution_count": null,
   "metadata": {},
   "outputs": [],
   "source": [
    "def otsu(f):\n",
    "     n = np.product(np.shape(f))\n",
    "     h = 1.*np.bincount(f.ravel()) / n  \n",
    "     if len(h) == 1: return 1,1\n",
    "     x = np.arange(np.product(np.shape(h)))\n",
    "     w0 = np.cumsum(h)\n",
    "     w1 = 1 - w0\n",
    "     eps = 1e-10\n",
    "     m0 = np.cumsum(x * h) / (w0 + eps)\n",
    "     mt = m0[-1]\n",
    "     m1 = (mt - m0[0:-1]*w0[0:-1]) / w1[0:-1]\n",
    "     sB2 = w0[0:-1] * w1[0:-1] * ((m0[0:-1] - m1)**2)\n",
    "     t = np.argmax(sB2)\n",
    "     v = sB2[t]\n",
    "     st2 = sum((x-mt)**2 * h)\n",
    "     eta = v / st2\n",
    "     return t, eta"
   ]
  },
  {
   "cell_type": "markdown",
   "metadata": {},
   "source": [
    "### Parte 3 - Segmentação por watershed\n",
    "\n",
    "Tentem reproduzir a demonstração de segmentação por watershed da antiga toolbox ([pdf](../data/ia870_iadbeef.pdf)). Vocês podem usar as funções de watershed implementadas na biblioteca *scipy.ndimage.measurements* ou *skimage.morphology*. Você pode também se inspirar no Seminário do Eduardo ([link](./Seminarios/Watershed.ipynb)).\n",
    "Quem quiser conhecer todos os algoritmos da Transformada de Watershed, eles estão descritos na Toolbox de Watershed desenvolvida por um de nossos alunos ([Toolbox Watershed](http://adessowiki.fee.unicamp.br/adesso/wiki/watershed/view/))"
   ]
  }
 ],
 "metadata": {
  "kernelspec": {
   "display_name": "Python 3",
   "language": "python",
   "name": "python3"
  },
  "language_info": {
   "codemirror_mode": {
    "name": "ipython",
    "version": 3
   },
   "file_extension": ".py",
   "mimetype": "text/x-python",
   "name": "python",
   "nbconvert_exporter": "python",
   "pygments_lexer": "ipython3",
   "version": "3.5.2"
  }
 },
 "nbformat": 4,
 "nbformat_minor": 2
}
