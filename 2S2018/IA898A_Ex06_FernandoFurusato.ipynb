{
 "cells": [
  {
   "cell_type": "markdown",
   "metadata": {},
   "source": [
    "# Ex06 - Primeiros passos para a Transformada de Fourier"
   ]
  },
  {
   "cell_type": "markdown",
   "metadata": {
    "collapsed": true
   },
   "source": [
    "### Parte 1 - Gerando ondas senoidas 1D e 2D\n",
    "\n",
    "Melhore o notebook sobre ondas senoidais ([link](08 Ondas senoidais.ipynb)), gerando outras senoides 2D e tentando interpretar o significado dos períodos $T_r$, $T_c$ e $T$, bem como das frequências normalizadas $u$ e $v$. Comece tentando gerar senoides 2D, onde $T_r$ ou $T_c$ é nulo. "
   ]
  },
  {
   "cell_type": "markdown",
   "metadata": {},
   "source": [
    "### Parte 1:\n",
    "* $T_r$ e $T_c$ são os períodos vertical e horizontal, respectivamente, da senoide 2d.  \n",
    "Períodos $T_r$ ou $T_c$ tendendo a zero significaria frequência tendendo ao infinito."
   ]
  },
  {
   "cell_type": "code",
   "execution_count": null,
   "metadata": {},
   "outputs": [],
   "source": [
    "theta = 45 * np.pi/180\n",
    "# T_r = T/np.sin(theta)\n",
    "T_r = 0.0009\n",
    "T = T_r * np.sin(theta)\n",
    "T_c = T/np.cos(theta)\n",
    "H, W = 256, 256\n",
    "s = (H, W)\n",
    "v = H/T_r\n",
    "u = W/T_c\n",
    "print('T:', T)\n",
    "print('T_r:', T_r)\n",
    "print('T_c:', T_c)\n",
    "print('v:', v)\n",
    "print('u:', u)\n",
    "\n",
    "f_ex1 = ia.cos(s, T, theta, 0)"
   ]
  },
  {
   "cell_type": "code",
   "execution_count": null,
   "metadata": {},
   "outputs": [],
   "source": [
    "plt.imshow(f_ex1, cmap='gray')\n",
    "plt.show()\n",
    "plt.plot(f_ex1[0])\n",
    "plt.show()\n",
    "plt.plot(f_ex1[:,0])\n",
    "plt.show()"
   ]
  },
  {
   "cell_type": "code",
   "execution_count": null,
   "metadata": {},
   "outputs": [],
   "source": [
    "%matplotlib inline\n",
    "import matplotlib.pyplot as plt\n",
    "import numpy as np\n",
    "from numpy.fft import fft2\n",
    "import sys,os\n",
    "ia898path = os.path.abspath('../../')\n",
    "if ia898path not in sys.path:\n",
    "    sys.path.append(ia898path)\n",
    "import ia898.src as ia"
   ]
  },
  {
   "cell_type": "code",
   "execution_count": null,
   "metadata": {},
   "outputs": [],
   "source": [
    "H = 128\n",
    "W = 256\n",
    "s = (H,W)\n",
    "T = 40\n",
    "theta = 45 * np.pi/180\n",
    "f = ia.cos(s, T, theta, 0)\n",
    "ia.adshow(ia.normalize(f, [0,255]))"
   ]
  },
  {
   "cell_type": "markdown",
   "metadata": {},
   "source": [
    "**OBS: estou usando a função adshow no lugar da implot pois percebi um efeito quadriculado na visualização (vejam abaixo).**"
   ]
  },
  {
   "cell_type": "code",
   "execution_count": null,
   "metadata": {},
   "outputs": [],
   "source": [
    "plt.plot(f[0])\n",
    "plt.show()\n",
    "\n",
    "plt.plot(f[:,0])\n",
    "plt.show()"
   ]
  },
  {
   "cell_type": "code",
   "execution_count": null,
   "metadata": {},
   "outputs": [],
   "source": [
    "plt.imshow(f, cmap='gray')\n",
    "plt.show()"
   ]
  },
  {
   "cell_type": "markdown",
   "metadata": {},
   "source": [
    "### Parte 2 - Calculando a translação periódica\n",
    "\n",
    "A próxima atividade consiste em entender as diferentes implementações da translação periódica. Procure comparar as 3 versões ([translação periódica](09 Translacao periodica.ipynb)). \n",
    "\n",
    "1. Primeiro, transforme a primeira implementação em uma função que recebe parâmetros para realizar a translação (rr, cc). \n",
    "2. Implemente a terceira forma indicada no link acima (usando slicing). \n",
    "3. Compare as 3 formas, em termos de resultado e de tempo. É provável que a última opção seja a mais eficiente de todas, pois somente utiliza fatiamento.\n",
    "\n",
    "Um dos cuidados nas implementações é observar que os parâmetros da translação podem ser negativos ou ainda bem maiores que a largura ou altura da imagem.\n",
    "\n"
   ]
  },
  {
   "cell_type": "markdown",
   "metadata": {},
   "source": [
    "**Fernando:** Implementação da função da primeira forma de translação"
   ]
  },
  {
   "cell_type": "code",
   "execution_count": null,
   "metadata": {},
   "outputs": [],
   "source": [
    "def shift_image(img, r, c):\n",
    "    \n",
    "    f = np.array(img)\n",
    "    H, W = f.shape\n",
    "    dh,dw = (-r,-c)\n",
    "    dhi = (-dh + H) % H\n",
    "    dwi = (-dw + W) % W\n",
    "    f2 = np.vstack((f, f))\n",
    "    f4 = np.hstack((f2, f2))\n",
    "    g = f4[dhi:dhi+H,dwi:dwi+W]\n",
    "    return g"
   ]
  },
  {
   "cell_type": "markdown",
   "metadata": {},
   "source": [
    "**Fernando:** Copiando a segunda forma do notebook:"
   ]
  },
  {
   "cell_type": "code",
   "execution_count": null,
   "metadata": {},
   "outputs": [],
   "source": [
    "def ptrans2d(img,t):\n",
    "    f = np.array(img)\n",
    "    rr,cc = t\n",
    "    H,W = f.shape\n",
    "    \n",
    "    r = rr%H\n",
    "    c = cc%W\n",
    "        \n",
    "    g = np.empty_like(f)\n",
    "    \n",
    "    g[:r,:c] = f[H-r:H,W-c:W]\n",
    "    g[:r,c:] = f[H-r:H,0:W-c]\n",
    "    g[r:,:c] = f[0:H-r,W-c:W]\n",
    "    g[r:,c:] = f[0:H-r,0:W-c]\n",
    "\n",
    "    return g"
   ]
  },
  {
   "cell_type": "code",
   "execution_count": null,
   "metadata": {},
   "outputs": [],
   "source": [
    "import matplotlib.image as mpimg\n",
    "\n",
    "img = mpimg.imread('../data/cameraman.tif')\n",
    "f1 = shift_image(img, 12, 128)\n",
    "plt.imshow(f1, cmap='gray')\n",
    "plt.show()"
   ]
  },
  {
   "cell_type": "markdown",
   "metadata": {},
   "source": [
    "**Fernando:** Implementação da terceira forma por slicing.\n",
    "* A parte comentada aloca o array g antes de atribuir os valores, mas essa implementação teve desempenho mais baixo.\n",
    "* Me pareceu que a implementação ptrans2d já é por fatiamento."
   ]
  },
  {
   "cell_type": "code",
   "execution_count": null,
   "metadata": {},
   "outputs": [],
   "source": [
    "def shift_slice(img, rr, cc):\n",
    "    \n",
    "    f = np.array(img)\n",
    "    r, c = f.shape\n",
    "    if (rr < 0):\n",
    "        r1 = r + rr\n",
    "    else:\n",
    "        r1 = rr\n",
    "    if (cc < 0):\n",
    "        c1 = c + cc\n",
    "    else:\n",
    "        c1 = cc\n",
    "        \n",
    "    g = np.concatenate(( np.concatenate((f[r1:,c1:], f[r1:,:c1]), axis=1) , \\\n",
    "                         np.concatenate((f[:r1, c1:], f[:r1, :c1]), axis=1) ))\n",
    "\n",
    "#     g = np.zeros(f.shape)\n",
    "#     g[:r-r1, :c-c1], g[:r-r1,c-c1:], g[r-r1:,:c-c1], g[r-r1:,c-c1:] = \\\n",
    "#     f[r1:,c1:],      f[r1:,:c1],     f[:r1, c1:],    f[:r1, :c1]\n",
    "\n",
    "    return g"
   ]
  },
  {
   "cell_type": "code",
   "execution_count": null,
   "metadata": {},
   "outputs": [],
   "source": [
    "img = mpimg.imread('../data/cameraman.tif')\n",
    "f1 = shift_slice(img, 128, 128)\n",
    "plt.imshow(f1, cmap='gray')\n",
    "plt.show()"
   ]
  },
  {
   "cell_type": "code",
   "execution_count": null,
   "metadata": {},
   "outputs": [],
   "source": [
    "img = mpimg.imread('../data/cameraman.tif')\n",
    "f1 = ptrans2d(img, (50, 128))\n",
    "plt.imshow(f1, cmap='gray')\n",
    "plt.show()"
   ]
  },
  {
   "cell_type": "markdown",
   "metadata": {},
   "source": [
    "Comparação de tempos:"
   ]
  },
  {
   "cell_type": "code",
   "execution_count": null,
   "metadata": {},
   "outputs": [],
   "source": [
    "%timeit shift_image(img, 12, 128)"
   ]
  },
  {
   "cell_type": "code",
   "execution_count": null,
   "metadata": {},
   "outputs": [],
   "source": [
    "%timeit ptrans2d(img, (12, 128))"
   ]
  },
  {
   "cell_type": "code",
   "execution_count": null,
   "metadata": {},
   "outputs": [],
   "source": [
    "%timeit shift_slice(img, 12, 128)"
   ]
  },
  {
   "cell_type": "markdown",
   "metadata": {},
   "source": [
    "### Parte 3 - Calculando a Transformada de Fourier de uma onda senoidal\n",
    "\n",
    "Antes de continuar, leia sobre a Transformada Discreta de Fourier (DFT) e sobre a Transformada Rápida de Fourier (FFT). Além dos slides colocados no Google Calssroom, dê uma olhada em alguns links interessantes:\n",
    "\n",
    "- [demo](http://bigwww.epfl.ch/demo/ip/demos/FFT/)\n",
    "- [explicação intuitiva](https://betterexplained.com/articles/an-interactive-guide-to-the-fourier-transform/)\n",
    "\n",
    "No exemplo abaixo, a partir da onda senoidal bidimensional gerada na parte 1, calculamos a Transformada de Fourier usando a função *fft2* do numpy. Para a visualização, é necessário fazer a translação periódica, para colocar a origem do espectro (0,0) no centro da imagem. Também é preciso usar o valor da magnitude do espectro resultante, já que o resultado da transformação é uma matriz complexa. E por fim, costumamos visualizar o log do resultado."
   ]
  },
  {
   "cell_type": "markdown",
   "metadata": {},
   "source": [
    "### Parte 3.1"
   ]
  },
  {
   "cell_type": "code",
   "execution_count": null,
   "metadata": {},
   "outputs": [],
   "source": [
    "from numpy.fft import rfft2, fftshift\n",
    "from numpy.fft import ifft2\n",
    "\n",
    "faux = f.copy()\n",
    "F = fft2(faux)\n",
    "H,W = faux.shape\n",
    "\n",
    "# sem log, sem transpose\n",
    "fig = plt.figure(figsize=[15, 10])\n",
    "fig.add_subplot(121)\n",
    "plt.title('Sem log, sem transpose')\n",
    "plt.imshow(ia.normalize(np.abs(F)), cmap='gray')\n",
    "fig.add_subplot(122)\n",
    "plt.title('Sem log, com transpose')\n",
    "plt.imshow(shift_slice(ia.normalize(np.abs(F)),H//2,W//2), cmap='gray')\n",
    "plt.show()\n",
    "\n",
    "# sem log\n",
    "fig = plt.figure(figsize=[15, 10])\n",
    "fig.add_subplot(121)\n",
    "plt.imshow((ia.ptrans(F,(H//2,W//2))+1).real, cmap='gray')\n",
    "fig.add_subplot(122)\n",
    "plt.imshow((ia.ptrans(F,(H//2,W//2))+1).imag, cmap='gray')\n",
    "plt.show()\n",
    "\n",
    "\n",
    "fig = plt.figure(figsize=[5, 5])\n",
    "plt.imshow(ia.normalize((np.abs(ifft2(F)))), cmap='gray')\n",
    "plt.show()\n",
    "\n",
    "fig = plt.figure(figsize=[7, 7])\n",
    "plt.imshow(ia.normalize(np.log(np.abs(shift_slice(F,H//2,W//2)+1)), [0,255]), cmap='gray')\n",
    "plt.show()\n",
    "\n",
    "fig = plt.figure(figsize=[7, 7])\n",
    "F2 = ia.normalize(np.abs(shift_slice(F,H//2,W//2)))\n",
    "plt.imshow(F2, cmap='gray')\n",
    "plt.show()"
   ]
  },
  {
   "cell_type": "markdown",
   "metadata": {},
   "source": [
    "**Fernando:** Pode-se perceber que a utilização do logaritmo na imagem faz com que a magnitude fique dentro de uma faixa menos acentuada. Desta forma, as diferenças entre os pixels de maior valor e os de menor valor fica menor."
   ]
  },
  {
   "cell_type": "code",
   "execution_count": null,
   "metadata": {},
   "outputs": [],
   "source": [
    "print(ia.normalize(np.abs(F[60:65,120:125])))\n",
    "print(ia.normalize(np.log(np.abs(F[60:65,120:125])) + 1))\n",
    "\n",
    "F.ravel()[517]"
   ]
  },
  {
   "cell_type": "code",
   "execution_count": null,
   "metadata": {},
   "outputs": [],
   "source": [
    "plt.plot(np.log(np.abs(shift_slice(F,H//2,W//2)+1)))\n",
    "plt.show()"
   ]
  },
  {
   "cell_type": "markdown",
   "metadata": {},
   "source": [
    "1. Experimente visualizar a Transformada de Fourier de diversas formas: sem fazer a translação periódica, sem calcular o logaritmo. Observe as diferenças e comente.\n",
    "2. Crie uma função auxiliar de visualização da Transformada de Fourier, assim como fizeram para visualização de múltiplas imagens, pois ela será bastante utilizada neste e nos próximos notebooks.\n",
    "3. Explique porque o espectro de Fourier não aparece como apenas 2 pontos (senoide). Modifique a senoide *f* para obter apenas 2 pontos na Transformada de Fourier. (DICA: a imagem *f* que estamos buscando ainda será uma senoide bidimensional, porém com alguma propriedade que evite o efeito observado.) Uma outra maneira de tentar entender o que está causando o problema é criar o espectro que se deseja de forma sintética (uma imagem com 2 pontos equidistantes do centro e diametralmente opostos - dizemos que é um par de pontos complexos conjugados) e fazer a transformada inversa de Fourier (ifft2 do numpy) para obter a imagem da senoide buscada."
   ]
  },
  {
   "cell_type": "markdown",
   "metadata": {},
   "source": [
    "### Parte 3.3:\n",
    "Aparentemente, o espectro não aparece como 2 pontos porque a imagem não é exatamente periódica. Pode-se perceber isso quando fazemos um stack das imagens senoides. As bordas não ficam alinhadas perfeitamente, o que causa o efeito.  \n",
    "A forma que eu encontrei para que a imagem fique exatamente periódica é fazer com que a quantidade de ciclos dentro da imagem seja sempre inteira. Mas, para isso, o ângulo acaba sendo levemente afetado, já que eu faço uma arredondamento para obter $u$ e $v$ inteiros."
   ]
  },
  {
   "cell_type": "code",
   "execution_count": null,
   "metadata": {},
   "outputs": [],
   "source": [
    "theta = 45 * np.pi/180\n",
    "T = 40\n",
    "H = 128\n",
    "W = 256\n",
    "\n",
    "T_r = T/np.sin(theta)\n",
    "T_c = T/np.cos(theta)\n",
    "\n",
    "v = int(round(H/T_r))\n",
    "u = int(round(W/T_c))\n",
    "\n",
    "r, c = np.indices((H, W))\n",
    "f_ex3 = np.cos(2*np.pi*( ((v/H)*r) + ((u/W)*c) ))\n",
    "plt.imshow(f_ex3, cmap='gray')\n",
    "\n",
    "print(T_r)\n",
    "print(T_c)\n",
    "\n",
    "print(v)\n",
    "print(u)\n",
    "\n",
    "print(H/T_r)\n",
    "print(W/T_c)\n",
    "\n",
    "print(W)\n",
    "print(H)\n",
    "f2 = np.hstack((f_ex3,f_ex3))\n",
    "f3 = np.vstack( (f2,f2) )\n",
    "fig = plt.figure(figsize=[10,10])\n",
    "plt.imshow(f3, cmap='gray')\n",
    "plt.show()"
   ]
  },
  {
   "cell_type": "code",
   "execution_count": null,
   "metadata": {},
   "outputs": [],
   "source": [
    "faux = f_ex3\n",
    "F = fft2(faux)\n",
    "H,W = faux.shape\n",
    "ia.adshow(ia.normalize(np.log(np.abs(shift_slice(F,H//2,W//2)+1))), [0,255])"
   ]
  }
 ],
 "metadata": {
  "kernelspec": {
   "display_name": "Python 3",
   "language": "python",
   "name": "python3"
  },
  "language_info": {
   "codemirror_mode": {
    "name": "ipython",
    "version": 3
   },
   "file_extension": ".py",
   "mimetype": "text/x-python",
   "name": "python",
   "nbconvert_exporter": "python",
   "pygments_lexer": "ipython3",
   "version": "3.6.5"
  }
 },
 "nbformat": 4,
 "nbformat_minor": 2
}
