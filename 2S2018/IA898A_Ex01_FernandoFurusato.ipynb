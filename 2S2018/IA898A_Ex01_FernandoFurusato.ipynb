{
 "cells": [
  {
   "cell_type": "markdown",
   "metadata": {},
   "source": [
    "# Ex01 - Aprendendo Numpy\n",
    "\n",
    "1. Exercite o uso do Numpy, através de pequenos exemplos utilizando principalmente a criação de arrays. Testes conceitos vistos nos tutoriais, como: usando os índices de um array, índices negativos, índices bidimensionais, slicing, reshape, transposição. Aproveite para explorar os recursos de documentação do jupyter e explique a medida que for realizando os diversos testes. Exemplo de uma sequência para o exercício:\n",
    "    - crie um array\n",
    "    - acesse elementos, linhas e colunas específicas do array, modificando seus valores\n",
    "    - altere o tamanho do array\n",
    "    - teste operações matriciais com arrays\n",
    "       \n",
    "2. Faça um programa para gerar uma imagem de um tabuleiro de xadrez. Existem várias formas de fazer este programa. Procure evitar o uso de laços explícitos e varreduras pixel-a-pixel.\n",
    "3. Opcional: aumente o xadrez para visualizar o resultado. Veja no exemplo abaixo como visualizar um array."
   ]
  },
  {
   "cell_type": "markdown",
   "metadata": {},
   "source": [
    "### Visualizando arrays em forma de imagem"
   ]
  },
  {
   "cell_type": "code",
   "execution_count": 2,
   "metadata": {},
   "outputs": [
    {
     "name": "stdout",
     "output_type": "stream",
     "text": [
      "Imagem constante:\n",
      " [[1. 1. 1. ... 1. 1. 1.]\n",
      " [1. 1. 1. ... 1. 1. 1.]\n",
      " [1. 1. 1. ... 1. 1. 1.]\n",
      " ...\n",
      " [1. 1. 1. ... 1. 1. 1.]\n",
      " [1. 1. 1. ... 1. 1. 1.]\n",
      " [1. 1. 1. ... 1. 1. 1.]]\n"
     ]
    }
   ],
   "source": [
    "import numpy as np\n",
    "\n",
    "f = np.ones((100,120))\n",
    "print(\"Imagem constante:\\n\",f)"
   ]
  },
  {
   "cell_type": "code",
   "execution_count": 3,
   "metadata": {},
   "outputs": [
    {
     "data": {
      "text/plain": [
       "<matplotlib.colorbar.Colorbar at 0x7feb23910240>"
      ]
     },
     "execution_count": 3,
     "metadata": {},
     "output_type": "execute_result"
    },
    {
     "data": {
      "image/png": "[encoded data removed]",
      "text/plain": [
       "<Figure size 432x288 with 2 Axes>"
      ]
     },
     "metadata": {},
     "output_type": "display_data"
    }
   ],
   "source": [
    "%matplotlib inline\n",
    "import matplotlib.pyplot as plt\n",
    "\n",
    "plt.title('Constant image')\n",
    "plt.imshow(f,cmap='gray')\n",
    "plt.colorbar()"
   ]
  },
  {
   "cell_type": "markdown",
   "metadata": {},
   "source": [
    "### Ex01.1"
   ]
  },
  {
   "cell_type": "code",
   "execution_count": 4,
   "metadata": {},
   "outputs": [
    {
     "name": "stdout",
     "output_type": "stream",
     "text": [
      "Criando um array:\n",
      "a=\n",
      "[ 0  1  2  3  4  5  6  7  8  9 10 11 12 13 14 15 16 17 18 19 20 21 22 23\n",
      " 24 25 26 27 28 29 30 31]\n",
      "\n",
      "Reshape para matriz\n",
      "[[ 0  1  2  3  4  5  6  7]\n",
      " [ 8  9 10 11 12 13 14 15]\n",
      " [16 17 18 19 20 21 22 23]\n",
      " [24 25 26 27 28 29 30 31]]\n",
      "\n",
      "Acessando elementos\n",
      "a[1,0]: 8\n",
      "a[2,3]: 19\n",
      "a[-1,-1]: 31\n",
      "a[-2, 2]: 18\n",
      "\n",
      "a=\n",
      "[[ 0  1  2  3  4  5  6  7]\n",
      " [ 8  9 10 11 12 13 14 15]\n",
      " [16 17 18 19 20 21 22 23]\n",
      " [24 25 26 27 28 29 30 31]\n",
      " [ 0  1  2  3  4  5  6  7]\n",
      " [ 8  9 10 11 12 13 14 15]\n",
      " [16 17 18 19 20 21 22 23]\n",
      " [24 25 26 27 28 29 30 31]]\n",
      "\n",
      "b=\n",
      "[[ 0  1  2  3  4  5  6  7]\n",
      " [ 8  9 10 11 12 13 14 15]\n",
      " [16 17 18 19 20 21 22 23]\n",
      " [24 25 26 27 28 29 30 31]\n",
      " [32 33 34 35 36 37 38 39]\n",
      " [40 41 42 43 44 45 46 47]\n",
      " [48 49 50 51 52 53 54 55]\n",
      " [56 57 58 59 60 61 62 63]]\n"
     ]
    }
   ],
   "source": [
    "print(\"Criando um array:\")\n",
    "a = np.arange(32)\n",
    "print(\"a=\\n{}\".format(a))\n",
    "\n",
    "\n",
    "print(\"\\nReshape para matriz\")\n",
    "a = a.reshape((4,8))\n",
    "print(a)\n",
    "\n",
    "print(\"\\nAcessando elementos\")\n",
    "print(\"a[1,0]: {}\".format(a[1, 0]))\n",
    "print(\"a[2,3]: {}\".format(a[2, 3]))\n",
    "print(\"a[-1,-1]: {}\".format(a[-1, -1]))\n",
    "print(\"a[-2, 2]: {}\".format(a[-2, 2]))\n",
    "\n",
    "a = np.resize(a, (8, 8))\n",
    "print(\"\\na=\\n{}\".format(a))\n",
    "\n",
    "b = np.arange(64).reshape((8, 8))\n",
    "\n",
    "print(\"\\nb=\\n{}\".format(b))"
   ]
  },
  {
   "cell_type": "markdown",
   "metadata": {},
   "source": [
    "#### Ex01 Cont. - operações matriciais"
   ]
  },
  {
   "cell_type": "code",
   "execution_count": 5,
   "metadata": {},
   "outputs": [
    {
     "name": "stdout",
     "output_type": "stream",
     "text": [
      "a transposta:\n",
      "[[ 0  8 16 24  0  8 16 24]\n",
      " [ 1  9 17 25  1  9 17 25]\n",
      " [ 2 10 18 26  2 10 18 26]\n",
      " [ 3 11 19 27  3 11 19 27]\n",
      " [ 4 12 20 28  4 12 20 28]\n",
      " [ 5 13 21 29  5 13 21 29]\n",
      " [ 6 14 22 30  6 14 22 30]\n",
      " [ 7 15 23 31  7 15 23 31]]\n",
      "\n",
      "a+b: \n",
      "[[ 0  2  4  6  8 10 12 14]\n",
      " [16 18 20 22 24 26 28 30]\n",
      " [32 34 36 38 40 42 44 46]\n",
      " [48 50 52 54 56 58 60 62]\n",
      " [32 34 36 38 40 42 44 46]\n",
      " [48 50 52 54 56 58 60 62]\n",
      " [64 66 68 70 72 74 76 78]\n",
      " [80 82 84 86 88 90 92 94]]\n",
      "\n",
      "a*2=\n",
      "[[ 0  2  4  6  8 10 12 14]\n",
      " [16 18 20 22 24 26 28 30]\n",
      " [32 34 36 38 40 42 44 46]\n",
      " [48 50 52 54 56 58 60 62]\n",
      " [ 0  2  4  6  8 10 12 14]\n",
      " [16 18 20 22 24 26 28 30]\n",
      " [32 34 36 38 40 42 44 46]\n",
      " [48 50 52 54 56 58 60 62]]\n",
      "\n",
      "Matriz 8x2 c:\n",
      "[[5. 5.]\n",
      " [5. 5.]\n",
      " [5. 5.]\n",
      " [5. 5.]\n",
      " [5. 5.]\n",
      " [5. 5.]\n",
      " [5. 5.]\n",
      " [5. 5.]]\n",
      "\n",
      "a*c:\n",
      "[[ 140.  140.]\n",
      " [ 460.  460.]\n",
      " [ 780.  780.]\n",
      " [1100. 1100.]\n",
      " [ 140.  140.]\n",
      " [ 460.  460.]\n",
      " [ 780.  780.]\n",
      " [1100. 1100.]]\n"
     ]
    }
   ],
   "source": [
    "print(\"a transposta:\\n{}\".format(a.T))\n",
    "\n",
    "print(\"\\na+b: \\n{}\".format(a + b))\n",
    "\n",
    "print(\"\\na*2=\\n{}\".format(a * 2))\n",
    "\n",
    "c = np.ones((8, 2)) * 5\n",
    "\n",
    "print(\"\\nMatriz 8x2 c:\\n{}\".format(c))\n",
    "\n",
    "print(\"\\na*c:\\n{}\".format(a.dot(c)))"
   ]
  },
  {
   "cell_type": "markdown",
   "metadata": {},
   "source": [
    "### Ex01.2 Assumindo tabuleiro de xadrez NxN"
   ]
  },
  {
   "cell_type": "code",
   "execution_count": 18,
   "metadata": {},
   "outputs": [
    {
     "name": "stdout",
     "output_type": "stream",
     "text": [
      "[[0 1 0 1 0 1 0 1]\n",
      " [1 0 1 0 1 0 1 0]\n",
      " [0 1 0 1 0 1 0 1]\n",
      " [1 0 1 0 1 0 1 0]\n",
      " [0 1 0 1 0 1 0 1]\n",
      " [1 0 1 0 1 0 1 0]\n",
      " [0 1 0 1 0 1 0 1]\n",
      " [1 0 1 0 1 0 1 0]]\n"
     ]
    },
    {
     "data": {
      "text/plain": [
       "<matplotlib.image.AxesImage at 0x7feb237aa400>"
      ]
     },
     "execution_count": 18,
     "metadata": {},
     "output_type": "execute_result"
    },
    {
     "data": {
      "image/png": "[encoded data removed]",
      "text/plain": [
       "<Figure size 432x288 with 1 Axes>"
      ]
     },
     "metadata": {},
     "output_type": "display_data"
    }
   ],
   "source": [
    "N = 8\n",
    "#chess = np.tile(np.array([[0.0 ,1.0], [1.0, 0.0]]), (N//2, N//2))\n",
    "\n",
    "chess_r, chess_c = np.indices((N, N))\n",
    "chess = (chess_r + chess_c) % 2\n",
    "\n",
    "print(chess)\n",
    "\n",
    "plt.title('Chess')\n",
    "plt.imshow(chess, cmap='gray')"
   ]
  },
  {
   "cell_type": "markdown",
   "metadata": {},
   "source": [
    "### Ex01.3 No exercício opcional, mantive a forma do tabuleiro feito no exercício anterior, apenas expandindo, mantendo a proporção, mas deixando a imagem visível."
   ]
  },
  {
   "cell_type": "code",
   "execution_count": 19,
   "metadata": {},
   "outputs": [
    {
     "name": "stdout",
     "output_type": "stream",
     "text": [
      "Shape: (400, 400)\n",
      "[[0 0 0 ... 1 1 1]\n",
      " [0 0 0 ... 1 1 1]\n",
      " [0 0 0 ... 1 1 1]\n",
      " ...\n",
      " [1 1 1 ... 0 0 0]\n",
      " [1 1 1 ... 0 0 0]\n",
      " [1 1 1 ... 0 0 0]]\n"
     ]
    },
    {
     "data": {
      "text/plain": [
       "<matplotlib.image.AxesImage at 0x7feb23702208>"
      ]
     },
     "execution_count": 19,
     "metadata": {},
     "output_type": "execute_result"
    },
    {
     "data": {
      "image/png": "[encoded data removed]",
      "text/plain": [
       "<Figure size 432x288 with 1 Axes>"
      ]
     },
     "metadata": {},
     "output_type": "display_data"
    }
   ],
   "source": [
    "new_size = 50 # vezes o tamanho original\n",
    "larger_chess = np.repeat(np.repeat(chess, new_size, axis=1), new_size, axis=0)\n",
    "\n",
    "print(\"Shape: {}\".format(larger_chess.shape))\n",
    "print(larger_chess)\n",
    "\n",
    "plt.title('Larger chess')\n",
    "plt.imshow(larger_chess, cmap='gray')"
   ]
  },
  {
   "cell_type": "markdown",
   "metadata": {},
   "source": [
    "#### Salvando como imagem para visualizar a diferença:"
   ]
  },
  {
   "cell_type": "code",
   "execution_count": 20,
   "metadata": {},
   "outputs": [
    {
     "name": "stderr",
     "output_type": "stream",
     "text": [
      "WARNING:root:Lossy conversion from int64 to uint8. Range [0, 1]. Convert image to uint8 prior to saving to suppress this warning.\n",
      "WARNING:root:Lossy conversion from int64 to uint8. Range [0, 1]. Convert image to uint8 prior to saving to suppress this warning.\n"
     ]
    }
   ],
   "source": [
    "import imageio\n",
    "\n",
    "imageio.imwrite(\"smaller.png\", chess)\n",
    "imageio.imwrite(\"larger.png\", larger_chess)"
   ]
  }
 ],
 "metadata": {
  "kernelspec": {
   "display_name": "Python 3",
   "language": "python",
   "name": "python3"
  },
  "language_info": {
   "codemirror_mode": {
    "name": "ipython",
    "version": 3
   },
   "file_extension": ".py",
   "mimetype": "text/x-python",
   "name": "python",
   "nbconvert_exporter": "python",
   "pygments_lexer": "ipython3",
   "version": "3.6.5"
  }
 },
 "nbformat": 4,
 "nbformat_minor": 2
}
