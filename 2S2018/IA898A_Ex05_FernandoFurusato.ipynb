{
 "cells": [
  {
   "cell_type": "markdown",
   "metadata": {},
   "source": [
    "# Ex05 - Filtros de aguçamento"
   ]
  },
  {
   "cell_type": "markdown",
   "metadata": {},
   "source": [
    "## 1. Unsharp mask\n",
    "\n",
    "Um filtro bastante utilizado para aguçar a imagem é denominado *unsharp mask*. Ele é capaz de realçar bordas calculando a diferença entre a imagem original e uma versão suavizada da imagem filtrada pela gaussiana. Para conseguir o realce de bordas, faça:\n",
    "\n",
    "- Calcule primeiro a *unsharp mask* ($df$)\n",
    "- Faça uma ponderação entre a imagem original e a imagem diferença: \n",
    "$$((1-k)*f + k*df)$$ onde $f$ é a imagem, $df$ é a *unsharp mask* e $k$ é o fator de ponderação \n",
    "- Mude o fator de ponderacao $k$ e veja o efeito na imagem final\n"
   ]
  },
  {
   "cell_type": "code",
   "execution_count": null,
   "metadata": {},
   "outputs": [],
   "source": [
    "import sys, os\n",
    "ia898path = os.path.abspath('../../')\n",
    "if ia898path not in sys.path:\n",
    "    sys.path.append(ia898path)\n",
    "import ia898.src as ia\n",
    "\n",
    "import numpy as np\n",
    "import scipy.signal as sc\n",
    "import scipy.ndimage as sn\n",
    "import matplotlib.image as mpimg\n",
    "import matplotlib.pyplot as plt\n",
    "from math import sqrt, pi"
   ]
  },
  {
   "cell_type": "code",
   "execution_count": null,
   "metadata": {},
   "outputs": [],
   "source": [
    "def border_highlight(img, df, k):\n",
    "    return(((1 - k) * img) + (k * df))"
   ]
  },
  {
   "cell_type": "code",
   "execution_count": null,
   "metadata": {},
   "outputs": [],
   "source": [
    "def gauss_kernel(kernel_size=7, sigma=1.0, mean=0):\n",
    "    \n",
    "    x = np.linspace(mean-1, mean+1, kernel_size)\n",
    "    g_x = 1/(sqrt(2*pi)*sigma) * np.exp(-(x**2/2.*(sigma**2)))\n",
    "    g_y = g_x.reshape(len(g_x),1)\n",
    "    g_xy = g_x * g_y\n",
    "#     plt.plot(x, g_x)\n",
    "#     plt.show()\n",
    "    return g_xy"
   ]
  },
  {
   "cell_type": "markdown",
   "metadata": {},
   "source": [
    "Utilizando uma imagem maior, percebi que a ponderação e o filtro gaussiano devem ser maiores para que tenhamos diferenças visíveis. Neste caso, a imagem é relativamente pequena."
   ]
  },
  {
   "cell_type": "code",
   "execution_count": null,
   "metadata": {},
   "outputs": [],
   "source": [
    "f_ex1 = np.array(mpimg.imread('../data/retina.tif')).astype('float32')\n",
    "\n",
    "gauss_kernel1_ex1 = gauss_kernel(3, 1, 0)\n",
    "\n",
    "f_ex1_filtered = sc.convolve2d(f_ex1, gauss_kernel1_ex1, mode='same')\n",
    "\n",
    "# f_ex1_filtered = ia.normalize(sn.gaussian_filter(f_ex1, 1))\n",
    "\n",
    "n = 0\n",
    "m = 200\n",
    "\n",
    "df_ex1 = f_ex1 - f_ex1_filtered\n",
    "\n",
    "fig1_ex1 = plt.figure(figsize=(14,14))\n",
    "\n",
    "fig1_ex1.add_subplot(131).axis('off')\n",
    "plt.title('Original')\n",
    "plt.imshow(f_ex1[n:m,n:m], cmap='gray')\n",
    "\n",
    "fig1_ex1.add_subplot(132).axis('off')\n",
    "plt.title('Filtrado gaussian')\n",
    "plt.imshow(f_ex1_filtered[n:m,n:m], cmap='gray')\n",
    "\n",
    "fig1_ex1.add_subplot(133).axis('off')\n",
    "plt.title('Original - filtrado')\n",
    "plt.imshow(df_ex1[n:m,n:m], cmap='gray')\n",
    "\n",
    "plt.show()\n",
    "\n",
    "fig2_ex1 = plt.figure(figsize=(14,14))\n",
    "\n",
    "\n",
    "fig2_ex1.add_subplot(131).axis('off')\n",
    "plt.title('Ponderação 0.5')\n",
    "plt.imshow((ia.normalize(border_highlight(f_ex1, df_ex1, .5))[n:m,n:m]), cmap='gray')\n",
    "\n",
    "fig2_ex1.add_subplot(132).axis('off')\n",
    "plt.title('Ponderação 1')\n",
    "plt.imshow(border_highlight(f_ex1, df_ex1, 1)[n:m,n:m], cmap='gray')\n",
    "\n",
    "fig2_ex1.add_subplot(133).axis('off')\n",
    "plt.title('Ponderação 2')\n",
    "plt.imshow(border_highlight(f_ex1, df_ex1, 2)[n:m,n:m], cmap='gray')\n",
    "\n",
    "plt.show()"
   ]
  },
  {
   "cell_type": "markdown",
   "metadata": {},
   "source": [
    "## 2. Filtro de Sobel\n",
    "\n",
    "Existem vários filtros que procuram realçar as bordas da imagem. Um dos mais conhecidos é o Operador Sobel, composto por uma máscara vertical (Sv) e uma máscara horizontal (Sh)."
   ]
  },
  {
   "cell_type": "code",
   "execution_count": null,
   "metadata": {},
   "outputs": [],
   "source": [
    "import numpy as np\n",
    "\n",
    "Sv = np.array([[1,0,-1],[2,0,-2],[1,0,-1]])\n",
    "print('Sv =\\n',Sv)\n",
    "\n",
    "Sh = np.array([[1,2,1],[0,0,0],[-1,-2,-1]])\n",
    "print('Sh =\\n',Sh)\n",
    "\n"
   ]
  },
  {
   "cell_type": "markdown",
   "metadata": {},
   "source": [
    "### 2.1 Implementar o operador Magnitude Sobel de uma imagem.\n",
    "\n",
    "A função MagSobel a ser implementada possui como parâmetro a imagem de entrada e deve seguir a seguinte equação:\n",
    "\n",
    "$$MagSobel = \\sqrt{f_h^2 + f_v^2}$$\n",
    "\n",
    "onde $f_h$ é a imagem de entrada convolvida com o operador de Sobel horizontal e $f_v$ é a imagem de entrada convolvida com o operador de Sobel vertical.\n",
    "\n",
    "Existem alguns cuidados necessários:\n",
    "\n",
    "- As operações devem todas serem feitas em ponto flutuante e os valores finais serão maiores de 255. Assim, a função que calcula a magnitude do gradiente Sobel é feita de acordo com a equação dada. \n",
    "- Lembre-se que para visualizar a imagem será necessário antes normalizar a imagem utilizando, por exemplo, o ianormalize. \n",
    "- Adicionalmente, como a máscara Sobel é 3x3, a imagem resultante terá altura e largura maiores que a original por 2x2 pixels já que a imagem resultante da convolução linear é a soma dos tamanhos em cada dimensão, menos 1.\n",
    "\n"
   ]
  },
  {
   "cell_type": "code",
   "execution_count": null,
   "metadata": {},
   "outputs": [],
   "source": [
    "def MagSobel(img):\n",
    "\n",
    "    Sv = np.array([[1,0,-1],[2,0,-2],[1,0,-1]])\n",
    "    Sh = np.array([[1,2,1],[0,0,0],[-1,-2,-1]])\n",
    "    \n",
    "    fh = sc.convolve2d(img, Sh, mode='same').astype('float')\n",
    "    fv = sc.convolve2d(img, Sv, mode='same').astype('float')\n",
    "    \n",
    "    mag_sobel = np.sqrt((fv**2)+(fh**2))\n",
    "    \n",
    "    return mag_sobel, fh, fv\n",
    "\n",
    "f = mpimg.imread('../data/retina.tif')\n",
    "sobel = MagSobel(f)\n",
    "\n",
    "fig = plt.figure(figsize=[5, 5])\n",
    "\n",
    "plt.imshow(ia.normalize(sobel[0]), cmap='gray')\n",
    "plt.show()"
   ]
  },
  {
   "cell_type": "markdown",
   "metadata": {},
   "source": [
    "### 2.2 Implementar uma funcao que retorna o ângulo da borda de Sobel\n",
    "\n",
    "Após implementar a função que retorna o ângulo da borda de Sobel:\n",
    "- calcule o histograma da distribuição deste ângulo, somente para valores de magnitude de borda acima de um limiar $T$;\n",
    "- visualize a imagem de ângulo utilizando uma tabela de cores circular para os ângulos e uma cor diferente para usar nos locais onde a magnitude for menor que $T$. Plote junto com a figura, a tabela de cores usada;\n"
   ]
  },
  {
   "cell_type": "code",
   "execution_count": null,
   "metadata": {},
   "outputs": [],
   "source": [
    "def sobel_angle(fh, fv):\n",
    "    return(np.arctan2(fv, fh))"
   ]
  },
  {
   "cell_type": "markdown",
   "metadata": {},
   "source": [
    "**Fernando:** Imprimi os valores abaixo somente para ter certeza da faixa de ângulos resultantes na operação ângulos mod pi, para que só tivéssemos ângulos positivos, de 0 a 180 graus. Sabemos que utilizar abs não seria exatamente efetivo, pois em nosso caso, -pi/4 seria equivalente a 3/4 * pi, por exemplo."
   ]
  },
  {
   "cell_type": "code",
   "execution_count": null,
   "metadata": {},
   "outputs": [],
   "source": [
    "f = mpimg.imread('../data/retina.tif')\n",
    "# f = mpimg.imread('../data/cameraman.tif')\n",
    "sobel = MagSobel(f)\n",
    "angles = (sobel_angle(sobel[1], sobel[2]))\n",
    "print(angles.max())\n",
    "print(angles.min())\n",
    "\n",
    "print(sobel[0].max())\n",
    "\n",
    "angles = angles % (pi)\n",
    "print(angles.max())\n",
    "print(angles.min())"
   ]
  },
  {
   "cell_type": "markdown",
   "metadata": {},
   "source": [
    "**Fernando:** Pelo histograma da magnitude normalizada, podemos perceber que a maior quantidade de magnitudes está concentrada nos valores 50 e abaixo. Fui experimentando a partir de 50, e a imagem ficou mais interessante a partir de 130"
   ]
  },
  {
   "cell_type": "code",
   "execution_count": null,
   "metadata": {},
   "outputs": [],
   "source": [
    "plt.plot(np.histogram(sobel[0], bins=1070)[0])\n",
    "plt.show()\n",
    "\n",
    "sobel_normalized = ia.normalize(sobel[0])\n",
    "plt.plot(ia.histogram(sobel_normalized))\n",
    "plt.show()"
   ]
  },
  {
   "cell_type": "markdown",
   "metadata": {},
   "source": [
    "### Eu tinha feito primeiro a circunferência abaixo, a partir do exemplo no ia.sobel"
   ]
  },
  {
   "cell_type": "code",
   "execution_count": null,
   "metadata": {},
   "outputs": [],
   "source": [
    "f2_ex2 = ia.circle([200,300], 90, [100,150])\n",
    "sobel2_ex2 = MagSobel(f2_ex2)\n",
    "f2_angles = sobel_angle(sobel2_ex2[1], sobel2_ex2[2])\n",
    "f2_angles = f2_angles % pi\n",
    "\n",
    "f2_mag_angles = np.select([sobel2_ex2[0] > 1], [f2_angles])\n",
    "\n",
    "f2_angles_color = np.ones((f2_angles.shape[0], f2_angles.shape[1], 3))\n",
    "\n",
    "f2_angles_color[:,:,0] = ia.normalize(f2_mag_angles, [0, 1])\n",
    "f2_angles_color[:,:,1] = ia.normalize(f2_mag_angles, [0, 1])\n",
    "f2_angles_color[:,:,2] = ia.normalize(f2_mag_angles, [0, 1])\n",
    "f2_angles_color[:,:,1][f2_angles_color[:,:,0] != 0] = 1\n",
    "f2_angles_color[:,:,2][f2_angles_color[:,:,0] != 0] = 1\n",
    "print(f2_mag_angles.min())\n",
    "plt.imshow(f2_mag_angles, cmap='gray')\n",
    "plt.colorbar()\n",
    "plt.show()\n",
    "\n",
    "plt.imshow(colors.hsv_to_rgb(f2_angles_color), cmap='hsv', vmax=180)\n",
    "plt.colorbar()\n",
    "plt.show()"
   ]
  },
  {
   "cell_type": "markdown",
   "metadata": {},
   "source": [
    "**Fernando:** Eu acho que não era bem essa tabela de cores que a professora queria, mas perdi muito tempo fazendo os outros exercícios. Então acredito que vou deixar desta forma."
   ]
  },
  {
   "cell_type": "code",
   "execution_count": null,
   "metadata": {},
   "outputs": [],
   "source": [
    "import matplotlib.colors as colors\n",
    "\n",
    "mag_angles = np.select([sobel[0] > 130], [angles])\n",
    "\n",
    "plt.figure(figsize=[7,7])\n",
    "plt.imshow(ia.normalize(mag_angles, [0, 180]), cmap='gray', vmax=180)\n",
    "plt.colorbar()\n",
    "plt.show()\n",
    "\n",
    "colored_angles = np.ones((mag_angles.shape[0], mag_angles.shape[1], 3))\n",
    "colored_angles[:,:,0] = ia.normalize(mag_angles, [0, 1])\n",
    "colored_angles[:,:,1] = ia.normalize(mag_angles, [0, 1])\n",
    "colored_angles[:,:,2] = ia.normalize(mag_angles, [0, 1])\n",
    "\n",
    "colored_angles[:,:,1][colored_angles[:,:,0] != 0] = 1\n",
    "colored_angles[:,:,2][colored_angles[:,:,0] != 0] = 1\n",
    "\n",
    "plt.figure(figsize=[7,7])\n",
    "\n",
    "plt.imshow(colors.hsv_to_rgb(colored_angles), cmap='hsv', vmax=180)\n",
    "plt.colorbar()\n",
    "plt.show()\n",
    "\n"
   ]
  },
  {
   "cell_type": "markdown",
   "metadata": {},
   "source": [
    "## 3. Propriedades da convolução\n",
    "\n",
    "Realize experimentos para demostrar as propriedades da convolução:\n",
    "\n",
    "- Comutativa $$f(x,y)*g(x,y) = g(x,y)*f(x,y)$$\n",
    "- Associativa $$f(x,y)*[g(x,y)*h(x,y)] = [f(x,y)*g(x,y)]*h(x,y)$$\n",
    "\n",
    "Crie um exemplo que demonstre como usar a propriedade associativa para realizar a filtragem de uma imagem por um filtro passa-faixa. (Dica: use uma máscara passa-baixas e uma máscara passa-altas)."
   ]
  },
  {
   "cell_type": "markdown",
   "metadata": {},
   "source": [
    "**Fernando**: Fiz a convolução comutativa com ia.conv e scipy.signal.convolve. Isso porque eu sei que o numpy.convolve alterna qual array convolve em qual, dependendo do tamanho, porém não tenho certeza quanto ao scipy.  \n",
    "Tirei a diferença entre os resultados nos dois casos, e foi zero."
   ]
  },
  {
   "cell_type": "code",
   "execution_count": null,
   "metadata": {},
   "outputs": [],
   "source": [
    "kernel_ex3 = gauss_kernel(7)\n",
    "\n",
    "f_filtered_ex3_1 = ia.conv(f, kernel_ex3)\n",
    "\n",
    "f_filtered_ex3_2 = ia.conv(kernel_ex3, f)\n",
    "\n",
    "fig_ex3 = plt.figure(figsize=[10, 10])\n",
    "fig_ex3.add_subplot(121).axis('off')\n",
    "plt.imshow(f_filtered_ex3_1, cmap='gray')\n",
    "fig_ex3.add_subplot(122).axis('off')\n",
    "plt.imshow(f_filtered_ex3_2, cmap='gray')\n",
    "\n",
    "plt.show()\n",
    "\n",
    "print(np.sum(f_filtered_ex3_1 - f_filtered_ex3_2))\n",
    "\n",
    "\n",
    "f_filtered_ex3_1 = sc.convolve(f, kernel_ex3)\n",
    "\n",
    "f_filtered_ex3_2 = sc.convolve(kernel_ex3, f)\n",
    "\n",
    "fig_ex3 = plt.figure(figsize=[10, 10])\n",
    "fig_ex3.add_subplot(121).axis('off')\n",
    "plt.imshow(f_filtered_ex3_1, cmap='gray')\n",
    "fig_ex3.add_subplot(122).axis('off')\n",
    "plt.imshow(f_filtered_ex3_2, cmap='gray')\n",
    "\n",
    "plt.show()\n",
    "\n",
    "print(np.sum(f_filtered_ex3_1 - f_filtered_ex3_2))"
   ]
  },
  {
   "cell_type": "markdown",
   "metadata": {},
   "source": [
    "- Associativa $$f(x,y)*[g(x,y)*h(x,y)] = [f(x,y)*g(x,y)]*h(x,y)$$"
   ]
  },
  {
   "cell_type": "code",
   "execution_count": null,
   "metadata": {},
   "outputs": [],
   "source": [
    "f_xy = f.copy()\n",
    "\n",
    "# Laplaciano\n",
    "g_xy = np.array([[0, 0, -1, 0, 0],\n",
    "                 [0, -1, -2, -1, 0],\n",
    "                 [-1,  -2,  16,  -2, -1],\n",
    "                 [0, -1, -2, -1, 0],\n",
    "                 [0, 0, -1, 0, 0]])\n",
    "\n",
    "h_xy = np.ones((5, 5))/5*5\n",
    "\n",
    "\n",
    "# f(x, y) * [g(x, y) * h(x, y)]\n",
    "term1 = sc.convolve2d(g_xy, h_xy, mode='full')\n",
    "\n",
    "result1 = sc.convolve2d(term1, f_xy, mode='full')\n",
    "\n",
    "# g(x, y) * [f(x, y) * h(x, y)]\n",
    "term2 = sc.convolve2d(f_xy, h_xy, mode='full')\n",
    "\n",
    "result2 = sc.convolve2d(term2, g_xy, mode='full')\n",
    "\n",
    "# h(x, y) * [f(x, y) * g(x, y)]\n",
    "term3 = sc.convolve2d(f_xy, g_xy, mode='full')\n",
    "\n",
    "result3 = sc.convolve2d(term3, h_xy, mode='full')\n",
    "\n",
    "fig_ex3_3 = plt.figure(figsize=[12, 12])\n",
    "\n",
    "fig_ex3_3.add_subplot(131)\n",
    "plt.imshow(result1, cmap='gray')\n",
    "\n",
    "fig_ex3_3.add_subplot(132)\n",
    "plt.imshow(result2, cmap='gray')\n",
    "\n",
    "fig_ex3_3.add_subplot(133)\n",
    "plt.imshow(result2, cmap='gray')\n",
    "plt.show()\n",
    "\n",
    "print(np.sum(result1-result2))\n",
    "print(np.sum(result1-result3))"
   ]
  }
 ],
 "metadata": {
  "kernelspec": {
   "display_name": "Python 3",
   "language": "python",
   "name": "python3"
  },
  "language_info": {
   "codemirror_mode": {
    "name": "ipython",
    "version": 3
   },
   "file_extension": ".py",
   "mimetype": "text/x-python",
   "name": "python",
   "nbconvert_exporter": "python",
   "pygments_lexer": "ipython3",
   "version": "3.6.5"
  }
 },
 "nbformat": 4,
 "nbformat_minor": 2
}
