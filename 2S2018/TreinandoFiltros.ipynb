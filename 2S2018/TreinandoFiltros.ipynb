{
 "cells": [
  {
   "cell_type": "code",
   "execution_count": 179,
   "metadata": {},
   "outputs": [
    {
     "name": "stdout",
     "output_type": "stream",
     "text": [
      "[[0 1 0 1 0 1 0 1]\n",
      " [1 0 1 0 1 0 1 0]\n",
      " [0 1 0 1 0 1 0 1]\n",
      " [1 0 1 0 1 0 1 0]\n",
      " [0 1 0 1 0 1 0 1]\n",
      " [1 0 1 0 1 0 1 0]\n",
      " [0 1 0 1 0 1 0 1]\n",
      " [1 0 1 0 1 0 1 0]]\n",
      "Shape: (16, 16)\n",
      "[[0 0 1 1 0 0 1 1 0 0 1 1 0 0 1 1]\n",
      " [0 0 1 1 0 0 1 1 0 0 1 1 0 0 1 1]\n",
      " [1 1 0 0 1 1 0 0 1 1 0 0 1 1 0 0]\n",
      " [1 1 0 0 1 1 0 0 1 1 0 0 1 1 0 0]\n",
      " [0 0 1 1 0 0 1 1 0 0 1 1 0 0 1 1]\n",
      " [0 0 1 1 0 0 1 1 0 0 1 1 0 0 1 1]\n",
      " [1 1 0 0 1 1 0 0 1 1 0 0 1 1 0 0]\n",
      " [1 1 0 0 1 1 0 0 1 1 0 0 1 1 0 0]\n",
      " [0 0 1 1 0 0 1 1 0 0 1 1 0 0 1 1]\n",
      " [0 0 1 1 0 0 1 1 0 0 1 1 0 0 1 1]\n",
      " [1 1 0 0 1 1 0 0 1 1 0 0 1 1 0 0]\n",
      " [1 1 0 0 1 1 0 0 1 1 0 0 1 1 0 0]\n",
      " [0 0 1 1 0 0 1 1 0 0 1 1 0 0 1 1]\n",
      " [0 0 1 1 0 0 1 1 0 0 1 1 0 0 1 1]\n",
      " [1 1 0 0 1 1 0 0 1 1 0 0 1 1 0 0]\n",
      " [1 1 0 0 1 1 0 0 1 1 0 0 1 1 0 0]]\n"
     ]
    },
    {
     "data": {
      "text/plain": [
       "<matplotlib.image.AxesImage at 0x7fdf99e45128>"
      ]
     },
     "execution_count": 179,
     "metadata": {},
     "output_type": "execute_result"
    },
    {
     "data": {
      "image/png": "[encoded data removed]",
      "text/plain": [
       "<Figure size 432x288 with 1 Axes>"
      ]
     },
     "metadata": {},
     "output_type": "display_data"
    }
   ],
   "source": [
    "import numpy as np\n",
    "import matplotlib.pyplot as plt\n",
    "from PIL import Image\n",
    "from PIL import ImageFilter\n",
    "\n",
    "N = 8\n",
    "#chess = np.tile(np.array([[0.0 ,1.0], [1.0, 0.0]]), (N//2, N//2))\n",
    "\n",
    "chess_r, chess_c = np.indices((N, N))\n",
    "chess = (chess_r + chess_c) % 2\n",
    "\n",
    "print(chess)\n",
    "\n",
    "new_size = 2 # vezes o tamanho original\n",
    "larger_chess = np.repeat(np.repeat(chess, new_size, axis=1), new_size, axis=0)\n",
    "\n",
    "print(\"Shape: {}\".format(larger_chess.shape))\n",
    "print(larger_chess)\n",
    "\n",
    "plt.title('Larger chess')\n",
    "plt.imshow(larger_chess, cmap='gray')"
   ]
  },
  {
   "cell_type": "code",
   "execution_count": 193,
   "metadata": {},
   "outputs": [],
   "source": [
    "filter = np.ones(9)\n",
    "filter = filter//9\n",
    "filter\n",
    "kernel = ImageFilter.Kernel((3,3), filter)"
   ]
  },
  {
   "cell_type": "code",
   "execution_count": 191,
   "metadata": {},
   "outputs": [],
   "source": [
    "filter = np.zeros((5,5))\n",
    "filter[:,2] = -1\n",
    "filter[2,:] = -1\n",
    "filter[1::2,2:3] = -2\n",
    "filter[2:3:,1::2] = -2\n",
    "filter[2,2] = 16\n",
    "filter\n",
    "kernel = ImageFilter.Kernel((5,5), filter.ravel())"
   ]
  },
  {
   "cell_type": "code",
   "execution_count": 194,
   "metadata": {},
   "outputs": [
    {
     "data": {
      "text/plain": [
       "<matplotlib.image.AxesImage at 0x7fdf99bf4278>"
      ]
     },
     "execution_count": 194,
     "metadata": {},
     "output_type": "execute_result"
    },
    {
     "data": {
      "image/png": "[encoded data removed]",
      "text/plain": [
       "<Figure size 432x288 with 1 Axes>"
      ]
     },
     "metadata": {},
     "output_type": "display_data"
    }
   ],
   "source": [
    "larger_chess *= (255//larger_chess.max())\n",
    "image_chess = Image.fromarray(np.uint8(larger_chess))\n",
    "\n",
    "plt.imshow(image_chess.filter(kernel))\n"
   ]
  },
  {
   "cell_type": "code",
   "execution_count": 285,
   "metadata": {},
   "outputs": [],
   "source": [
    "def convolve(img_array, kernel):\n",
    "    #temp_img = img_array.copy()\n",
    "\n",
    "    temp_img = np.lib.pad(img_array, kernel.shape[0]//2, 'edge')\n",
    "    for index, x in np.ndenumerate(temp_img):\n",
    "        print('{}: {}'.format(index, temp_img[index]))"
   ]
  },
  {
   "cell_type": "code",
   "execution_count": 275,
   "metadata": {},
   "outputs": [
    {
     "data": {
      "text/plain": [
       "array([[ 0,  1,  2,  3,  4],\n",
       "       [ 5,  6,  7,  8,  9],\n",
       "       [10, 11, 12, 13, 14],\n",
       "       [15, 16, 17, 18, 19],\n",
       "       [20, 21, 22, 23, 24]])"
      ]
     },
     "execution_count": 275,
     "metadata": {},
     "output_type": "execute_result"
    }
   ],
   "source": [
    "a = np.arange(25)\n",
    "a = a.reshape((5,5))\n",
    "a"
   ]
  },
  {
   "cell_type": "code",
   "execution_count": 286,
   "metadata": {},
   "outputs": [
    {
     "name": "stdout",
     "output_type": "stream",
     "text": [
      "[[3 3 3]\n",
      " [3 3 3]\n",
      " [3 3 3]]\n",
      "[[ 0  0  1  2  3  4  4]\n",
      " [ 0  0  1  2  3  4  4]\n",
      " [ 5  5  6  7  8  9  9]\n",
      " [10 10 11 12 13 14 14]\n",
      " [15 15 16 17 18 19 19]\n",
      " [20 20 21 22 23 24 24]\n",
      " [20 20 21 22 23 24 24]]\n",
      "(7, 7)\n",
      "(0, 0): 0\n",
      "(0, 1): 0\n",
      "(0, 2): 0\n",
      "(0, 3): 1\n",
      "(0, 4): 2\n",
      "(0, 5): 3\n",
      "(0, 6): 4\n",
      "(0, 7): 4\n",
      "(0, 8): 4\n",
      "(1, 0): 0\n",
      "(1, 1): 0\n",
      "(1, 2): 0\n",
      "(1, 3): 1\n",
      "(1, 4): 2\n",
      "(1, 5): 3\n",
      "(1, 6): 4\n",
      "(1, 7): 4\n",
      "(1, 8): 4\n",
      "(2, 0): 0\n",
      "(2, 1): 0\n",
      "(2, 2): 0\n",
      "(2, 3): 1\n",
      "(2, 4): 2\n",
      "(2, 5): 3\n",
      "(2, 6): 4\n",
      "(2, 7): 4\n",
      "(2, 8): 4\n",
      "(3, 0): 5\n",
      "(3, 1): 5\n",
      "(3, 2): 5\n",
      "(3, 3): 6\n",
      "(3, 4): 7\n",
      "(3, 5): 8\n",
      "(3, 6): 9\n",
      "(3, 7): 9\n",
      "(3, 8): 9\n",
      "(4, 0): 10\n",
      "(4, 1): 10\n",
      "(4, 2): 10\n",
      "(4, 3): 11\n",
      "(4, 4): 12\n",
      "(4, 5): 13\n",
      "(4, 6): 14\n",
      "(4, 7): 14\n",
      "(4, 8): 14\n",
      "(5, 0): 15\n",
      "(5, 1): 15\n",
      "(5, 2): 15\n",
      "(5, 3): 16\n",
      "(5, 4): 17\n",
      "(5, 5): 18\n",
      "(5, 6): 19\n",
      "(5, 7): 19\n",
      "(5, 8): 19\n",
      "(6, 0): 20\n",
      "(6, 1): 20\n",
      "(6, 2): 20\n",
      "(6, 3): 21\n",
      "(6, 4): 22\n",
      "(6, 5): 23\n",
      "(6, 6): 24\n",
      "(6, 7): 24\n",
      "(6, 8): 24\n",
      "(7, 0): 20\n",
      "(7, 1): 20\n",
      "(7, 2): 20\n",
      "(7, 3): 21\n",
      "(7, 4): 22\n",
      "(7, 5): 23\n",
      "(7, 6): 24\n",
      "(7, 7): 24\n",
      "(7, 8): 24\n",
      "(8, 0): 20\n",
      "(8, 1): 20\n",
      "(8, 2): 20\n",
      "(8, 3): 21\n",
      "(8, 4): 22\n",
      "(8, 5): 23\n",
      "(8, 6): 24\n",
      "(8, 7): 24\n",
      "(8, 8): 24\n"
     ]
    }
   ],
   "source": [
    "c1 = np.repeat(3,9).reshape((3,3))\n",
    "c2 = np.repeat(2,9).reshape((3,3))\n",
    "\n",
    "print(c1)\n",
    "print(b)\n",
    "print(b.shape)\n",
    "\n",
    "convolve(b, c1)"
   ]
  }
 ],
 "metadata": {
  "kernelspec": {
   "display_name": "Python 3",
   "language": "python",
   "name": "python3"
  },
  "language_info": {
   "codemirror_mode": {
    "name": "ipython",
    "version": 3
   },
   "file_extension": ".py",
   "mimetype": "text/x-python",
   "name": "python",
   "nbconvert_exporter": "python",
   "pygments_lexer": "ipython3",
   "version": "3.5.2"
  }
 },
 "nbformat": 4,
 "nbformat_minor": 2
}
